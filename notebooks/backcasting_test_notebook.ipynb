{
 "cells": [
  {
   "cell_type": "markdown",
   "metadata": {},
   "source": [
    "# Backcasting Test Notebook\n",
    "\n",
    "_Loren Champlin_\n",
    "\n",
    "Adapted from _Adarsh Pyarelal_'s WM 12 Month Evaluation Notebook \n",
    "\n",
    "As always, we begin with imports, and print out the commit hash for a rendered\n",
    "version of the notebook."
   ]
  },
  {
   "cell_type": "code",
   "execution_count": null,
   "metadata": {},
   "outputs": [],
   "source": [
    "%load_ext autoreload\n",
    "%autoreload 2\n",
    "%matplotlib inline\n",
    "import pickle\n",
    "from IPython.display import set_matplotlib_formats\n",
    "set_matplotlib_formats('retina')\n",
    "from delphi.visualization import visualize\n",
    "import delphi.jupyter_tools as jt\n",
    "import numpy as np\n",
    "import pandas as pd\n",
    "from scipy import stats\n",
    "#Comment out the next line if you do not have the delphi.db file. \n",
    "from delphi.db import engine\n",
    "jt.print_commit_hash_message()\n",
    "import random as rm\n",
    "import delphi.evaluation as EN\n",
    "import delphi.AnalysisGraph as AG\n",
    "import warnings\n",
    "#warnings.filterwarnings(\"ignore\")\n",
    "import logging\n",
    "logging.getLogger().setLevel(logging.CRITICAL)\n",
    "from indra.statements import (\n",
    "    Concept,\n",
    "    Influence,\n",
    "    Evidence,\n",
    "    Event,\n",
    "    QualitativeDelta,\n",
    ")\n",
    "from delphi.utils.indra import *\n",
    "from delphi.utils.shell import cd\n",
    "import seaborn as sns\n",
    "import matplotlib.pyplot as plt\n",
    "from delphi.utils.fp import flatMap, take, ltake, lmap, pairwise, iterate, exists\n",
    "import time"
   ]
  },
  {
   "cell_type": "markdown",
   "metadata": {},
   "source": [
    "Here I will set random seeds"
   ]
  },
  {
   "cell_type": "code",
   "execution_count": null,
   "metadata": {},
   "outputs": [],
   "source": [
    "np.random.seed(87)\n",
    "rm.seed(87)"
   ]
  },
  {
   "cell_type": "code",
   "execution_count": null,
   "metadata": {},
   "outputs": [],
   "source": [
    "concepts = {\n",
    "    \"conflict\": {\n",
    "        \"grounding\": \"UN/events/human/conflict\",\n",
    "        \"delta\": {\"polarity\": 1, \"adjective\": [\"small\"]},\n",
    "    },\n",
    "    \"food security\": {\n",
    "        \"grounding\": \"UN/entities/human/food/food_security\",\n",
    "        \"delta\": {\"polarity\": -1, \"adjective\": [\"large\"]},\n",
    "    },\n",
    "    \"migration\": {\n",
    "        \"grounding\": \"UN/events/human/human_migration\",\n",
    "        \"delta\": {\"polarity\": 1, \"adjective\": ['small']},\n",
    "    },\n",
    "    \"product\": {\n",
    "        \"grounding\": \"UN/entities/natural/crop_technology/product\",\n",
    "        \"delta\": {\"polarity\": 1, \"adjective\": ['large']},\n",
    "    },\n",
    "    \"economic crisis\": {\n",
    "        \"grounding\": \"UN/events/human/economic_crisis\",\n",
    "        \"delta\": {\"polarity\": 1, \"adjective\": [\"large\"]},\n",
    "    },\n",
    "    \"precipitation\": {\n",
    "        \"grounding\": \"UN/events/weather/precipitation\",\n",
    "        \"delta\": {\"polarity\": 1, \"adjective\": []},\n",
    "    },\n",
    "    \"inflation\": {\n",
    "        \"grounding\": \"UN/entities/human/financial/economic/inflation\",\n",
    "        \"delta\": {\"polarity\": -1, \"adjective\": [\"large\"]},\n",
    "    },\n",
    "\n",
    "}\n",
    "\n",
    "def make_event(concept, attrs):\n",
    "    return Event(\n",
    "        Concept(\n",
    "            attrs[\"grounding\"],\n",
    "            db_refs={\"TEXT\": concept, \"UN\": [(attrs[\"grounding\"], 0.8)]},\n",
    "        ),\n",
    "        delta=QualitativeDelta(\n",
    "            attrs[\"delta\"][\"polarity\"], attrs[\"delta\"][\"adjective\"]\n",
    "        ),\n",
    "    )\n",
    "\n",
    "\n",
    "def make_statement(event1, event2):\n",
    "    return Influence(\n",
    "        event1,\n",
    "        event2,\n",
    "        evidence=Evidence(\n",
    "            annotations={\n",
    "                \"subj_adjectives\": event1.delta.adjectives,\n",
    "                \"obj_adjectives\": event2.delta.adjectives,\n",
    "            }\n",
    "        ),\n",
    "    )\n",
    "\n",
    "events = {\n",
    "    concept: make_event(concept, attrs) for concept, attrs in concepts.items()\n",
    "}\n",
    "\n",
    "s1 = make_statement(events[\"conflict\"], events[\"food security\"])\n",
    "s2 = make_statement(events[\"migration\"], events[\"product\"])\n",
    "s3 = make_statement(events[\"migration\"], events[\"economic crisis\"])\n",
    "s4 = make_statement(events[\"precipitation\"], events[\"inflation\"])\n",
    "s5 = make_statement(events[\"inflation\"],events[\"migration\"])"
   ]
  },
  {
   "cell_type": "markdown",
   "metadata": {},
   "source": [
    "Now we load the Causal Analysis Graph (CAG). This is CAG was inferred by reading in a JSON corpus and was pruned and adjusted to be human migration centered. Also is a list of the nodes contained in the CAG"
   ]
  },
  {
   "cell_type": "code",
   "execution_count": null,
   "metadata": {
    "scrolled": true
   },
   "outputs": [],
   "source": [
    "start_time = time.time()\n",
    "G = AG.AnalysisGraph.from_statements(get_valid_statements_for_modeling([s5]))\n"
   ]
  },
  {
   "cell_type": "code",
   "execution_count": null,
   "metadata": {},
   "outputs": [],
   "source": [
    "G.map_concepts_to_indicators()\n",
    "G.set_indicator(\"UN/events/human/human_migration\",\"New asylum seeking applicants\",\"UNHCR\")"
   ]
  },
  {
   "cell_type": "code",
   "execution_count": null,
   "metadata": {},
   "outputs": [],
   "source": [
    "EN.train_model(G,2015,1,2015,12,10000,90000)"
   ]
  },
  {
   "cell_type": "code",
   "execution_count": null,
   "metadata": {},
   "outputs": [],
   "source": [
    "EN.generate_predictions(G,2016,1,2016,12)\n",
    "end_time = time.time()\n",
    "total_time = end_time-start_time\n",
    "\n"
   ]
  },
  {
   "cell_type": "code",
   "execution_count": null,
   "metadata": {},
   "outputs": [],
   "source": [
    "total_time"
   ]
  },
  {
   "cell_type": "code",
   "execution_count": null,
   "metadata": {},
   "outputs": [],
   "source": [
    "EN.pred_to_array(G,\"New asylum seeking applicants\")[:,0].mean()"
   ]
  },
  {
   "cell_type": "code",
   "execution_count": null,
   "metadata": {},
   "outputs": [],
   "source": [
    "EN.mean_pred_to_df(G,'New asylum seeking applicants',true_vals=True)"
   ]
  },
  {
   "cell_type": "code",
   "execution_count": null,
   "metadata": {},
   "outputs": [],
   "source": [
    "EN.pred_plot(G,'New asylum seeking applicants',plot_type='Comparison',save_as=None)"
   ]
  },
  {
   "cell_type": "code",
   "execution_count": null,
   "metadata": {},
   "outputs": [],
   "source": [
    "n = 2\n",
    "query = \" \".join(\n",
    "        [\n",
    "            \"select Source, Indicator from concept_to_indicator_mapping\",\n",
    "            \"where `Concept` like 'UN/entities/human/financial/economic/inflation'\",\n",
    "        ]\n",
    "    )\n",
    "\n",
    "results = engine.execute(query)\n",
    "\n",
    "pd.DataFrame(results, columns=results.keys())"
   ]
  },
  {
   "cell_type": "code",
   "execution_count": null,
   "metadata": {},
   "outputs": [],
   "source": []
  },
  {
   "cell_type": "markdown",
   "metadata": {},
   "source": [
    "Next we map indicator variables to nodes. For the most part indicator variables can be inferred from available data and texts, but we can also manually map indicators to nodes. There is also a list of the indicator variables in the same order as the list of nodes above (i.e \"Claims on other sectors of the domestic economy\" is attached to \"UN/events/human/economic_crisis\"."
   ]
  },
  {
   "cell_type": "code",
   "execution_count": null,
   "metadata": {},
   "outputs": [],
   "source": [
    "query = \" \".join(\n",
    "        [\n",
    "            f\"select * from indicator\",\n",
    "            f\"where `Variable` like 'New asylum seeking applicants' and `Year` is '2015'\",\n",
    "        ]\n",
    "    )\n",
    "\n",
    "results = engine.execute(query)\n",
    "\n",
    "df = pd.DataFrame(results,columns=results.keys())\n",
    "df"
   ]
  },
  {
   "cell_type": "code",
   "execution_count": null,
   "metadata": {},
   "outputs": [],
   "source": [
    "x = 5\n",
    "y = x\n",
    "\n",
    "y = 2\n",
    "\n",
    "print(x)"
   ]
  }
 ],
 "metadata": {
  "kernelspec": {
   "display_name": "Python 3",
   "language": "python",
   "name": "python3"
  },
  "language_info": {
   "codemirror_mode": {
    "name": "ipython",
    "version": 3
   },
   "file_extension": ".py",
   "mimetype": "text/x-python",
   "name": "python",
   "nbconvert_exporter": "python",
   "pygments_lexer": "ipython3",
   "version": "3.7.3"
  }
 },
 "nbformat": 4,
 "nbformat_minor": 2
}

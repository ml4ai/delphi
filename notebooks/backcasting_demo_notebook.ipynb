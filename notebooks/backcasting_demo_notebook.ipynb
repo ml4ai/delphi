{
 "cells": [
  {
   "cell_type": "markdown",
   "metadata": {},
   "source": [
    "# Backcasting Demo Notebook\n",
    "\n",
    "_Loren Champlin_\n",
    "\n",
    "Adapted from _Adarsh Pyarelal_'s WM 12 Month Evaluation Notebook \n",
    "\n",
    "As always, we begin with imports, and print out the commit hash for a rendered\n",
    "version of the notebook."
   ]
  },
  {
   "cell_type": "code",
   "execution_count": null,
   "metadata": {},
   "outputs": [],
   "source": [
    "%load_ext autoreload\n",
    "%autoreload 2\n",
    "%matplotlib inline\n",
    "import pickle\n",
    "from IPython.display import set_matplotlib_formats\n",
    "set_matplotlib_formats('retina')\n",
    "from delphi.visualization import visualize\n",
    "import delphi.jupyter_tools as jt\n",
    "import numpy as np\n",
    "import pandas as pd\n",
    "from delphi.db import engine\n",
    "jt.print_commit_hash_message()\n",
    "import random as rm\n",
    "import delphi.evaluation as EN\n",
    "import delphi.AnalysisGraph as AG\n",
    "import warnings\n",
    "warnings.filterwarnings(\"ignore\")\n",
    "import logging\n",
    "logging.getLogger().setLevel(logging.CRITICAL)"
   ]
  },
  {
   "cell_type": "markdown",
   "metadata": {},
   "source": [
    "Here I will set random seeds"
   ]
  },
  {
   "cell_type": "code",
   "execution_count": null,
   "metadata": {},
   "outputs": [],
   "source": [
    "np.random.seed(87)\n",
    "rm.seed(87)"
   ]
  },
  {
   "cell_type": "markdown",
   "metadata": {},
   "source": [
    "Now we load the Causal Analysis Graph (CAG). Currently I am just creating a faux CAG using the from_text constructor of delphi's AnalysisGraph module. There are several ways of creating and loading a CAG, often it is assembled from a corpus and then pruned and centered around a certain concept such as \"precipitation\" or \"human migration\". "
   ]
  },
  {
   "cell_type": "code",
   "execution_count": null,
   "metadata": {},
   "outputs": [],
   "source": [
    "G = AG.AnalysisGraph.from_text('Decreased Rainfall causes increased inflation rates', webservice='http://54.84.114.146:9000')"
   ]
  },
  {
   "cell_type": "markdown",
   "metadata": {},
   "source": [
    "Next we map indicator variables to nodes. For the most part indicator variables can be inferred from available data and texts, but we can also manually map indicators to nodes. "
   ]
  },
  {
   "cell_type": "code",
   "execution_count": null,
   "metadata": {},
   "outputs": [],
   "source": [
    "G.map_concepts_to_indicators()\n",
    "\n",
    "G.set_indicator(\"UN/events/weather/precipitation\", \"Historical Average Total Daily Rainfall (Maize)\", \"DSSAT\")\n",
    "\n",
    "G.set_indicator(\"UN/entities/human/financial/economic/inflation\", \"Inflation Rate\", \"ieconomics.com\")"
   ]
  },
  {
   "cell_type": "markdown",
   "metadata": {},
   "source": [
    "Here we use the setup_evaluate function from the Evaluation module to set the sampling resolution and assemble the transition model from our gradable adjectives data. This is just a simple helper function since all of this can be done manually using the AnalysisGraph functions as well. Instead of passing the CAG (G in this case) directly, there is an optional input variable that takes a string representing a pickle file that contains the appropriate CAG."
   ]
  },
  {
   "cell_type": "code",
   "execution_count": null,
   "metadata": {},
   "outputs": [],
   "source": [
    "G = EN.setup_evaluate(G)"
   ]
  },
  {
   "cell_type": "markdown",
   "metadata": {},
   "source": [
    "In the cell below, we visualize the CAG parameterized with indicator values for Septemeber, 2013.\n",
    "\n",
    "Legend: \n",
    "- Red edge: overall inhibition, green edge: overall promotion\n",
    "- Edge thickness corresponds roughly to the 'strength' of the influence.\n",
    "- Edge opacity corresponds roughly to the number of evidence fragments \n",
    "  that support the causal relationship."
   ]
  },
  {
   "cell_type": "code",
   "execution_count": null,
   "metadata": {},
   "outputs": [],
   "source": [
    "G.parameterize(year=2013,month=9)\n",
    "visualize(G, indicators=True, indicator_values=True)"
   ]
  },
  {
   "cell_type": "markdown",
   "metadata": {},
   "source": [
    "Finally, we evaluate our CAG and transition model by predicting Inflation Rate given changes in Precipitation. The first four variables are self-explanatory, they set the time range of the evaluation. Right now I have it set to evaluate from Septemeber, 2013 to April, 2017. \n",
    "\n",
    "Next, we want to predict and evaluate Inflation Rate which is the indicator variable attached to the Inflation node. This can be seen by the string that is passed to \"target_node\" which is the full name of Inflation node. For example if we instead wanted to evaluate \"Historical Average Total Daily Rainfall\", then we would pass a string representing the full name of the Preciptiation node. \n",
    "\n",
    "The variable \"intervened_node\" contains a string that represents the node we wish to intervene on or forcefully change to faciliate our predictions. In this case, we are intervening on Precipitation. The belief is that the node changes at the same rate in which its attached indicator node does. So we use the data for \"Historical Average Total Daily Rainfall\" to infer rates of change for Precipitation.\n",
    "\n",
    "The function evaluate from the Evaluation module returns a pandas dataframe containing the predicted values, true values, and residuals (error) for the indicator variable attached to the specified target node. Setting plot = True also displays a plot representing this data. plot_type = 'Compare' gives a plot that compares the predicted values and true values per time step. Changing plot_type = 'Error' gives a residual (Error) plot with a reference line at 0. \n",
    "\n",
    "Also note that G, the variable containing the CAG was also passed into evaluate. There is also a optional input argument for evaluate (like setup_evaluate) which takes a string representing a pickle file containing the appropriate CAG."
   ]
  },
  {
   "cell_type": "code",
   "execution_count": null,
   "metadata": {},
   "outputs": [],
   "source": [
    "start_year = 2013\n",
    "start_month = 9\n",
    "end_year = 2017\n",
    "end_month = 4\n",
    "target_node = \"UN/entities/human/financial/economic/inflation\"\n",
    "intervened_node = \"UN/events/weather/precipitation\"\n",
    "plot = True\n",
    "plot_type = 'Compare'\n",
    "\n",
    "df = EN.evaluate(target_node=target_node,intervened_node=intervened_node,G=G,start_year=start_year,start_month=start_month,end_year=end_year,end_month=end_month,plot=plot,plot_type=plot_type)\n"
   ]
  }
 ],
 "metadata": {
  "kernelspec": {
   "display_name": "Python 3",
   "language": "python",
   "name": "python3"
  },
  "language_info": {
   "codemirror_mode": {
    "name": "ipython",
    "version": 3
   },
   "file_extension": ".py",
   "mimetype": "text/x-python",
   "name": "python",
   "nbconvert_exporter": "python",
   "pygments_lexer": "ipython3",
   "version": "3.7.3"
  }
 },
 "nbformat": 4,
 "nbformat_minor": 2
}

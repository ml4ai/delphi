{
 "cells": [
  {
   "cell_type": "markdown",
   "metadata": {},
   "source": [
    "# WM 12 Month Evaluation Notebook\n",
    "\n",
    "_Adarsh Pyarelal_\n",
    "\n",
    "As always, we begin with imports, and print out the commit hash for a rendered\n",
    "version of the notebook."
   ]
  },
  {
   "cell_type": "code",
   "execution_count": null,
   "metadata": {},
   "outputs": [],
   "source": [
    "%load_ext autoreload\n",
    "%autoreload 2\n",
    "%matplotlib inline\n",
    "import pickle\n",
    "from IPython.display import set_matplotlib_formats\n",
    "set_matplotlib_formats('retina')\n",
    "from delphi.visualization import visualize\n",
    "import delphi.jupyter_tools as jt\n",
    "jt.print_commit_hash_message()"
   ]
  },
  {
   "cell_type": "markdown",
   "metadata": {},
   "source": [
    "# Forecasting\n",
    "\n",
    "Q1: How much rainfall is expected in Northern Bahr el Ghazal and Unity in the lean season?\n",
    "\n",
    "A: (_From Cheryl Porter's note_) The lean season represents the time before harvest, when food from the\n",
    "previous harvest is scarce. There may be crops in the field and ample\n",
    "rainfall, but food is scarce. The lean season may vary from year to year based \n",
    "on how much food was harvested the previous year, the timing of the planting\n",
    "season, the growth season length, and other factors. \n",
    "\n",
    "We can approximate the lean season rainfall as the rainfall that occurs between planting and harvest. In general, maize and sorghum are planted around the same time, but maize is  harvested earlier. We can therefore use the maize growing season rainfall as the approximation of lean season rainfall. \n",
    "\n",
    "Q2: What are the expected crop yields for maize and sorghum during the summer of 2017 in Northern Bahr el Ghazal and Unity?"
   ]
  },
  {
   "cell_type": "markdown",
   "metadata": {},
   "source": [
    "###### Function description\n",
    "\n",
    "`get_expected_distribution`: This function plots the expected distribution of an indicator variable, given some constraints, automatically aggregating as needed if null values are found.\n",
    "\n",
    "Options:\n",
    "\n",
    "- `indicator`: Name of the indicator variable. Recommended values for answering 12M eval questions (forecasted = computed by DSSAT):\n",
    "    - Q1:\n",
    "        - `\"Historical Average Total Daily Rainfall (Maize)\"`\n",
    "        - `\"Forecasted Average Total Daily Rainfall (Maize)\"`\n",
    "    - Q2:\n",
    "        - `\"Historical Production (Sorghum)\"`\n",
    "        - `\"Historical Production (Maize)\"`\n",
    "        - `\"Forecasted Production (Sorghum)\"`\n",
    "        - `\"Forecasted Production (Maize)\"`\n",
    "- `state`: Name of the state to get indicator values for. Recommended values for answering 12-month eval questions:\n",
    "    - `\"Northern Bahr el Ghazal\"`\n",
    "    - `\"Unity\"`"
   ]
  },
  {
   "cell_type": "code",
   "execution_count": null,
   "metadata": {
    "scrolled": false
   },
   "outputs": [],
   "source": [
    "# Setting the lean season month range\n",
    "lean_season_month_range = (1,3)\n",
    "\n",
    "jt.get_expected_distribution(\n",
    "    indicator = \"Historical Average Total Daily Rainfall (Sorghum)\",\n",
    "    state = \"Unity\",\n",
    "    month_range=lean_season_month_range\n",
    ")"
   ]
  },
  {
   "cell_type": "markdown",
   "metadata": {},
   "source": [
    "# Conditional Forecasting\n",
    "\n",
    "Q: What would be the effect on crop yields for maize and sorghum in Northern Bahr el Ghazal State and Unity State if rainfall is in the lowest 5th percentile?\n",
    "\n",
    "The function `get_percentile_based_conditional_forecast` implements a straightforward approach to answering this question - it simply looks for the values of a forecast variable (currently, only `Production` is supported) that correspond to the lowest $n^{th}$ percentile of the conditioned variable (currently, only `Rainfall` is supported) and returns them.\n",
    "\n",
    "The purpose of this particular demonstration is not to show off sophisticated modeling techniques, but rather to demonstrate a proof-of-concept of basic integration between Delphi and a bottom up model (DSSAT).\n",
    "\n",
    "Currently, the flow is one-way only - precomputed DSSAT values for a few different scenarios related to the 12-month evaluation have been supplied by the University of Florida team, and have been inserted into the Delphi database.\n",
    "\n",
    "In the future, we envision that DSSAT and other bottom-up models will be run in a MINT workflow, and can be 'called out' to via an Uncharted HMI, which will then communicate the resulting values via a REST API to Delphi."
   ]
  },
  {
   "cell_type": "code",
   "execution_count": null,
   "metadata": {
    "scrolled": false
   },
   "outputs": [],
   "source": [
    "jt.get_percentile_based_conditional_forecast(\n",
    "    forecast_var = \"Production\",\n",
    "    conditioned_var = \"Rainfall\",\n",
    "    crop = \"sorghum\", # Options: (\"maize\", \"sorghum\")\n",
    "    percentile = 5,\n",
    ")"
   ]
  },
  {
   "cell_type": "markdown",
   "metadata": {},
   "source": [
    "In the next few cells, we examine the downstream effects of reduced precipitation, on other quantities of interest, using a CAG built via a script (see http://vision.cs.arizona.edu/adarsh/12m_eval_report.pdf for details on how the CAG was built)."
   ]
  },
  {
   "cell_type": "code",
   "execution_count": null,
   "metadata": {
    "scrolled": false
   },
   "outputs": [],
   "source": [
    "with open(\"../scripts/build/precipitation_centered_CAG.pkl\", \"rb\") as f:\n",
    "    G = pickle.load(f)"
   ]
  },
  {
   "cell_type": "markdown",
   "metadata": {},
   "source": [
    "In the cell below, we visualize the CAG.\n",
    "\n",
    "Legend: \n",
    "- Red edge: overall inhibition, green edge: overall promotion\n",
    "- Edge thickness corresponds roughly to the 'strength' of the influence.\n",
    "- Edge opacity corresponds roughly to the number of evidence fragments \n",
    "  that support the causal relationship."
   ]
  },
  {
   "cell_type": "code",
   "execution_count": null,
   "metadata": {
    "scrolled": false
   },
   "outputs": [],
   "source": [
    "visualize(G)"
   ]
  },
  {
   "cell_type": "code",
   "execution_count": null,
   "metadata": {},
   "outputs": [],
   "source": [
    "G.map_concepts_to_indicators()\n",
    "G.parameterize()\n",
    "visualize(G, indicators=True, indicator_values=True)"
   ]
  },
  {
   "cell_type": "markdown",
   "metadata": {},
   "source": [
    "We then run an experiment to see how a 20% decrease in precipitation that decays over time, corresponding to \n",
    "\n",
    "$\\frac{\\partial(precipitation)}{\\partial t} = -0.2\\exp{(-\\tau t)}$\n",
    "\n",
    "where $\\tau$ is a positive real number representing the rate of the decay of the partial derivative, and $t$ is some whole number representing a time step.\n",
    "\n",
    "The full ensemble model is a linear dynamical system with a stochastic transition matrix, and is described here: http://vision.cs.arizona.edu/adarsh/export/Arizona_Text_to_Model_Procedure.pdf"
   ]
  },
  {
   "cell_type": "code",
   "execution_count": null,
   "metadata": {},
   "outputs": [],
   "source": [
    "G.assemble_transition_model_from_gradable_adjectives()\n",
    "G.sample_from_prior()"
   ]
  },
  {
   "cell_type": "code",
   "execution_count": null,
   "metadata": {
    "scrolled": true
   },
   "outputs": [],
   "source": [
    "jt.run_experiment(G, \"UN/events/weather/precipitation\", -0.2, 4)"
   ]
  },
  {
   "cell_type": "markdown",
   "metadata": {},
   "source": [
    "Now, we can sharpen our predictions by learning from data provided by DSSAT. We perform a simple Bayesian linear regression to get a sharper distribution for $\\beta_{precipitation,food\\_production}$ in the transition matrix."
   ]
  },
  {
   "cell_type": "code",
   "execution_count": null,
   "metadata": {
    "scrolled": false
   },
   "outputs": [],
   "source": [
    "G.infer_transition_matrix_coefficient_from_data(\n",
    "    'UN/events/weather/precipitation', 'UN/events/human/agriculture/food_production',\n",
    "    state = \"Northern Bahr el Ghazal\", crop = \"maize\"\n",
    ")\n",
    "jt.run_experiment(G, \"UN/events/weather/precipitation\", -0.2, 4)"
   ]
  },
  {
   "cell_type": "markdown",
   "metadata": {},
   "source": [
    "We can see that the distributions of the indicator values have become sharper, indicative of the reduction in uncertainty due to incorporating both gradable adjectives and bottom-up model output.\n",
    "\n",
    "If we want more precision, we can use the exact distribution provided by a DSSAT run to more accurately infer the distribution of $\\beta_{precipitation,food\\_production}$ (as opposed to the simple linear fit to historical data done in this example)."
   ]
  }
 ],
 "metadata": {
  "kernelspec": {
   "display_name": "Python 3",
   "language": "python",
   "name": "python3"
  },
  "language_info": {
   "codemirror_mode": {
    "name": "ipython",
    "version": 3
   },
   "file_extension": ".py",
   "mimetype": "text/x-python",
   "name": "python",
   "nbconvert_exporter": "python",
   "pygments_lexer": "ipython3",
   "version": "3.6.8"
  }
 },
 "nbformat": 4,
 "nbformat_minor": 2
}

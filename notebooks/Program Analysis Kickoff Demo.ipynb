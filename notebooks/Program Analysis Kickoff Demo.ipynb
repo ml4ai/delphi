{
 "cells": [
  {
   "cell_type": "markdown",
   "metadata": {},
   "source": [
    "# Program Analysis Seedling Kickoff Demo\n",
    "\n",
    "*University of Arizona*\n",
    "\n",
    "*July 26, 2018*\n",
    "\n",
    "\n",
    "In this demo we will show how a dynamic Bayes network (DBN) can be constructed from the source code for a FORTRAN program. This notebook has been tested with the version of Delphi corresponding to the commit hash below."
   ]
  },
  {
   "cell_type": "code",
   "execution_count": null,
   "metadata": {},
   "outputs": [],
   "source": [
    "!git rev-parse HEAD"
   ]
  },
  {
   "cell_type": "markdown",
   "metadata": {},
   "source": [
    "Some preliminaries:"
   ]
  },
  {
   "cell_type": "code",
   "execution_count": null,
   "metadata": {},
   "outputs": [],
   "source": [
    "%load_ext autoreload\n",
    "%autoreload 2\n",
    "import json\n",
    "import delphi.program_analysis as pa\n",
    "from IPython.core.display import Image\n",
    "import delphi.jupyter_tools as jt"
   ]
  },
  {
   "cell_type": "markdown",
   "metadata": {},
   "source": [
    "We start with the FORTRAN program, `crop_yield.f` shown below."
   ]
  },
  {
   "cell_type": "code",
   "execution_count": null,
   "metadata": {},
   "outputs": [],
   "source": [
    "jt.display(f'../data/program_analysis/crop_yield.f')"
   ]
  },
  {
   "cell_type": "markdown",
   "metadata": {},
   "source": [
    "## Analyze the FORTRAN source code\n",
    "\n",
    "The FORTRAN program is now analyzed by the autoTranslate \n",
    "program analysis pipeline:\n",
    "- Analyze the FORTRAN source\n",
    "- Translate the FORTRAN source analysis into a functionally equivalent Python source file\n",
    "- Extract component assignment functions (lambda fns) and variable functional relationships within scope (DBN-JSON)"
   ]
  },
  {
   "cell_type": "code",
   "execution_count": null,
   "metadata": {},
   "outputs": [],
   "source": [
    "%cd ../delphi/program_analysis/autoTranslate/\n",
    "!./autoTranslate ../../../data/program_analysis/crop_yield.f\n",
    "%cd ../../../notebooks/"
   ]
  },
  {
   "cell_type": "markdown",
   "metadata": {},
   "source": [
    "This generates several files.  First, program analysis autoTranslate analyses the FORTRAN code to extract the AST (abstract syntax tree), represented in xml:"
   ]
  },
  {
   "cell_type": "code",
   "execution_count": null,
   "metadata": {},
   "outputs": [],
   "source": [
    "jt.display('../delphi/program_analysis/autoTranslate/crop_yield.xml')"
   ]
  },
  {
   "cell_type": "markdown",
   "metadata": {},
   "source": [
    "A functionally equivalent Python source file is generated (preserving semantics of the FORTRAN source, such as call be reference):"
   ]
  },
  {
   "cell_type": "code",
   "execution_count": null,
   "metadata": {},
   "outputs": [],
   "source": [
    "jt.display('../delphi/program_analysis/autoTranslate/crop_yield.py')"
   ]
  },
  {
   "cell_type": "markdown",
   "metadata": {},
   "source": [
    "Variable assignment functions are extracted into an interface of modular executable functions"
   ]
  },
  {
   "cell_type": "code",
   "execution_count": null,
   "metadata": {},
   "outputs": [],
   "source": [
    "lambdas = '../delphi/program_analysis/autoTranslate/lambdas.py'\n",
    "jt.display(lambdas)"
   ]
  },
  {
   "cell_type": "markdown",
   "metadata": {},
   "source": [
    "The Python source is then parsed into a JSON representation of the \n",
    "statements and functions contained in the program. "
   ]
  },
  {
   "cell_type": "code",
   "execution_count": null,
   "metadata": {},
   "outputs": [],
   "source": [
    "dbn_json = '../delphi/program_analysis/autoTranslate/pgm.json'\n",
    "jt.display(dbn_json)"
   ]
  },
  {
   "cell_type": "markdown",
   "metadata": {},
   "source": [
    "## Assemble the DBN\n",
    "\n",
    "Delphi takes this JSON description, discovers all scopes and assignment \n",
    "statements in it, and builds a graph that shows how \n",
    "information flows through the program during runtime.\n",
    "\n",
    "### Program initialization\n",
    "\n",
    "We construct a nested scope tree, and display the graph representation from \n",
    "the nested scope tree."
   ]
  },
  {
   "cell_type": "markdown",
   "metadata": {},
   "source": [
    "### Constructing the scope tree\n",
    "\n",
    "The scope tree is a rooted collection of nested `Scope` objects.\n",
    "We currently have two different scopes that our program identifies:\n",
    "\n",
    "- A `LoopScope` meant to track loops found in the initial program \n",
    "- A `FuncScope` meant to track functions found in the initial program.\n",
    "\n",
    "The `scope_tree` defined below will be a `Scope` object that has other `Scope` obejects as its children."
   ]
  },
  {
   "cell_type": "markdown",
   "metadata": {},
   "source": [
    "### Viewing the DBN\n",
    "\n",
    "The final step is to construct a DBN from `scope_tree`. Below we create a digraph to show the DBN as a flow of information through the program at runtime. Scopes are nested and the breadth of each scope is shown with a colored bounding box. Function scopes are colored in green while loop scopes are shown in blue. Each scope is labeled with the scope specific name as found in the JSON specification. Variables from the program are shown as ellipses contained in their appropriate scopes. Variables are named with the name of the variable in the program and the name of the scope in which the variable was first defined. Actions, such as variable assignment or conditional evaluation, are shown as red rectangles and are labeled similarly to variables.\n",
    "\n",
    "This graph has a linked structure that shows how variables from one scope populate for use into child scopes. This allows us to see the entire data flow profile of the initial program at runtime."
   ]
  },
  {
   "cell_type": "code",
   "execution_count": null,
   "metadata": {},
   "outputs": [],
   "source": [
    "from delphi.program_analysis.scopes import Scope\n",
    "root = Scope.from_json('../delphi/program_analysis/autoTranslate/pgm.json')\n",
    "A = root.to_agraph()\n",
    "Image(A.draw(format='png', prog='dot'), retina=True)"
   ]
  },
  {
   "cell_type": "markdown",
   "metadata": {},
   "source": [
    "## Executing the DBN\n",
    "\n",
    "With the DBN now assembled and represented within Delphi, we can execute the DBN, displayed here from a CAG view of the DBN with variable states updating as the loop is unfolded."
   ]
  },
  {
   "cell_type": "code",
   "execution_count": null,
   "metadata": {},
   "outputs": [],
   "source": [
    "from delphi.program_analysis.ProgramAnalysisGraph import *\n",
    "import sys\n",
    "from importlib import import_module\n",
    "sys.path.append('../delphi/program_analysis/autoTranslate')\n",
    "import lambdas\n",
    "G = ProgramAnalysisCAG.from_agraph(A, lambdas)"
   ]
  },
  {
   "cell_type": "code",
   "execution_count": null,
   "metadata": {},
   "outputs": [],
   "source": [
    "initialize(G)\n",
    "G.visualize(show_values = True)"
   ]
  },
  {
   "cell_type": "code",
   "execution_count": null,
   "metadata": {},
   "outputs": [],
   "source": [
    "update(G)\n",
    "G.visualize(show_values = True)"
   ]
  },
  {
   "cell_type": "code",
   "execution_count": null,
   "metadata": {},
   "outputs": [],
   "source": []
  }
 ],
 "metadata": {
  "hide_input": false,
  "kernelspec": {
   "display_name": "Python 3",
   "language": "python",
   "name": "python3"
  },
  "language_info": {
   "codemirror_mode": {
    "name": "ipython",
    "version": 3
   },
   "file_extension": ".py",
   "mimetype": "text/x-python",
   "name": "python",
   "nbconvert_exporter": "python",
   "pygments_lexer": "ipython3",
   "version": "3.6.5"
  }
 },
 "nbformat": 4,
 "nbformat_minor": 2
}

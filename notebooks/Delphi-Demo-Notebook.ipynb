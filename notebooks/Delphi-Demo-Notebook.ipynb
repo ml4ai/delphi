{
 "cells": [
  {
   "cell_type": "markdown",
   "metadata": {
    "slideshow": {
     "slide_type": "slide"
    }
   },
   "source": [
    "# Delphi Demo - CAGs from <span style='color:royalblue; font-style: italic'>Text</span>\n",
    "\n",
    "*July 30, 2018*\n",
    "\n",
    "This is a Jupyter notebook created to showcase the design and capabilities of\n",
    "the Delphi package, available at [https://github.com/ml4ai/delphi](https://github.com/ml4ai/delphi). \n",
    "\n",
    "A rendered HTML version of this notebook can also be found at\n",
    "[`http://vision.cs.arizona.edu/adarsh/export/delphi_demo_wm_pi_meeting_2018.html`](http://vision.cs.arizona.edu/adarsh/export/delphi_demo_wm_pi_meeting_2018.html)"
   ]
  },
  {
   "cell_type": "markdown",
   "metadata": {
    "slideshow": {
     "slide_type": "skip"
    }
   },
   "source": [
    "This demo has been tested with the version of Delphi corresponding to the commit hash below."
   ]
  },
  {
   "cell_type": "code",
   "execution_count": null,
   "metadata": {
    "attributes": {
     "classes": [],
     "id": "",
     "n": "1"
    },
    "slideshow": {
     "slide_type": "skip"
    }
   },
   "outputs": [],
   "source": [
    "!git rev-parse HEAD"
   ]
  },
  {
   "cell_type": "markdown",
   "metadata": {
    "slideshow": {
     "slide_type": "slide"
    }
   },
   "source": [
    "## Construct and visualize CAG corresponding to use case"
   ]
  },
  {
   "cell_type": "code",
   "execution_count": null,
   "metadata": {},
   "outputs": [],
   "source": [
    "%load_ext autoreload\n",
    "%autoreload 2\n",
    "from delphi.utils import get_data_from_url\n",
    "import urllib.request as request\n",
    "import pickle\n",
    "from delphi.AnalysisGraph import AnalysisGraph\n",
    "from delphi.visualization import visualize\n",
    "from delphi.manipulation import merge_nodes\n",
    "from delphi.assembly import get_valid_statements_for_modeling\n",
    "from delphi.subgraphs import get_subgraph_for_concept_pairs\n",
    "import pandas as pd\n",
    "from delphi.inspection import statements\n",
    "import delphi.jupyter_tools as jt\n",
    "from delphi.quantification import map_concepts_to_indicators"
   ]
  },
  {
   "cell_type": "code",
   "execution_count": null,
   "metadata": {
    "attributes": {
     "classes": [],
     "id": "",
     "n": "1"
    },
    "slideshow": {
     "slide_type": "fragment"
    }
   },
   "outputs": [],
   "source": [
    "from delphi.utils.indra import get_statements_from_json\n",
    "url = \"http://vision.cs.arizona.edu/adarsh/export/demos/data/preassembled_indra_statements-small.json\"\n",
    "sts = get_statements_from_json(request.urlopen(url).read())"
   ]
  },
  {
   "cell_type": "code",
   "execution_count": null,
   "metadata": {},
   "outputs": [],
   "source": [
    "G = AnalysisGraph.from_statements(sts)"
   ]
  },
  {
   "cell_type": "code",
   "execution_count": null,
   "metadata": {
    "attributes": {
     "classes": [],
     "id": "",
     "n": "5"
    },
    "slideshow": {
     "slide_type": "fragment"
    }
   },
   "outputs": [],
   "source": [
    "G = merge_nodes(G, 'food_security', 'food_insecurity', same_polarity=False)"
   ]
  },
  {
   "cell_type": "code",
   "execution_count": null,
   "metadata": {},
   "outputs": [],
   "source": [
    "concepts = [\"precipitation\", \"food_insecurity\", \"conflict\"]\n",
    "G = get_subgraph_for_concept_pairs(G, concepts, cutoff=2)"
   ]
  },
  {
   "cell_type": "code",
   "execution_count": null,
   "metadata": {},
   "outputs": [],
   "source": [
    "visualize(G, rankdir='TB', nodes_to_highlight=concepts)"
   ]
  },
  {
   "cell_type": "markdown",
   "metadata": {
    "slideshow": {
     "slide_type": "slide"
    }
   },
   "source": [
    "## Inspecting and editing CAGs"
   ]
  },
  {
   "cell_type": "markdown",
   "metadata": {
    "slideshow": {
     "slide_type": "slide"
    }
   },
   "source": [
    "## Inspecting statements"
   ]
  },
  {
   "cell_type": "code",
   "execution_count": null,
   "metadata": {
    "attributes": {
     "classes": [],
     "id": "",
     "n": "6"
    },
    "slideshow": {
     "slide_type": "fragment"
    }
   },
   "outputs": [],
   "source": [
    "pd.options.display.max_colwidth=1000\n",
    "pd.options.display.width=1000\n",
    "jt.create_statement_inspection_table(statements(G))"
   ]
  },
  {
   "cell_type": "markdown",
   "metadata": {
    "slideshow": {
     "slide_type": "slide"
    }
   },
   "source": [
    "## Removing incorrect edges"
   ]
  },
  {
   "cell_type": "code",
   "execution_count": null,
   "metadata": {
    "slideshow": {
     "slide_type": "fragment"
    }
   },
   "outputs": [],
   "source": [
    "G.remove_edges_from([('food_insecurity', 'drought'), ('food_insecurity', 'food_insecurity')])\n",
    "visualize(G, rankdir='LR', nodes_to_highlight='food_insecurity')"
   ]
  },
  {
   "cell_type": "markdown",
   "metadata": {
    "slideshow": {
     "slide_type": "slide"
    }
   },
   "source": [
    "## Mapping concepts to indicators"
   ]
  },
  {
   "cell_type": "code",
   "execution_count": null,
   "metadata": {
    "slideshow": {
     "slide_type": "fragment"
    }
   },
   "outputs": [],
   "source": [
    "url = 'http://vision.cs.arizona.edu/adarsh/export/demos/data/concept_to_indicator_mapping.txt'\n",
    "mapping = get_data_from_url(url)\n",
    "map_concepts_to_indicators(G, 2, url)\n",
    "visualize(G, indicators=True)"
   ]
  },
  {
   "cell_type": "code",
   "execution_count": null,
   "metadata": {
    "slideshow": {
     "slide_type": "subslide"
    }
   },
   "outputs": [],
   "source": [
    "from delphi.random_variables import Indicator\n",
    "G.nodes['conflict']['indicators'] = G.nodes['conflict']['indicators'][1:]\n",
    "G.nodes['market']['indicators'] = G.nodes['market']['indicators'][1:]\n",
    "visualize(G, indicators=True)"
   ]
  },
  {
   "cell_type": "code",
   "execution_count": null,
   "metadata": {
    "slideshow": {
     "slide_type": "subslide"
    }
   },
   "outputs": [],
   "source": [
    "from datetime import datetime\n",
    "from delphi.parameterization import parameterize\n",
    "date = datetime(2014, 1, 1)\n",
    "url = 'http://vision.cs.arizona.edu/adarsh/export/demos/data/south_sudan_data.csv'\n",
    "df = pd.read_csv(url, sep=\"|\", index_col=\"Indicator Name\")\n",
    "parameterize(G, datetime(2014, 1,1), df)\n",
    "visualize(G, indicators=True, indicator_values = True,\n",
    "          graph_label=f'Causal Analysis Graph for South Sudan, {date.year}')"
   ]
  },
  {
   "cell_type": "markdown",
   "metadata": {
    "slideshow": {
     "slide_type": "slide"
    }
   },
   "source": [
    "## Infer transition model"
   ]
  },
  {
   "cell_type": "code",
   "execution_count": null,
   "metadata": {
    "slideshow": {
     "slide_type": "fragment"
    }
   },
   "outputs": [],
   "source": [
    "from delphi.inference import infer_transition_model\n",
    "url = 'http://vision.cs.arizona.edu/adarsh/export/demos/data/adjectiveData.tsv'\n",
    "infer_transition_model(request.urlopen(url), 100)"
   ]
  },
  {
   "cell_type": "markdown",
   "metadata": {
    "slideshow": {
     "slide_type": "slide"
    }
   },
   "source": [
    "## Set initial parameters"
   ]
  },
  {
   "cell_type": "code",
   "execution_count": null,
   "metadata": {},
   "outputs": [],
   "source": [
    "from delphi.export import export_default_initial_values\n",
    "export_default_initial_values(G, variables_file='variables.csv')\n",
    "s0 = pd.read_csv('variables.csv', index_col=0, header=None,\n",
    "                 error_bad_lines=False)[1]\n",
    "s0.loc['∂(conflict)/∂t'] = 0.1\n",
    "s0.to_csv('variables.csv')\n",
    "s0"
   ]
  },
  {
   "cell_type": "markdown",
   "metadata": {
    "slideshow": {
     "slide_type": "slide"
    }
   },
   "source": [
    "## Execute model"
   ]
  },
  {
   "cell_type": "code",
   "execution_count": null,
   "metadata": {
    "slideshow": {
     "slide_type": "fragment"
    }
   },
   "outputs": [],
   "source": [
    "%matplotlib inline\n",
    "from delphi.bmi import *\n",
    "from matplotlib import pyplot as plt\n",
    "import seaborn as sns\n",
    "from delphi.utils.misc import _insert_line_breaks\n",
    "\n",
    "initialize(G, 'variables.csv')\n",
    "concept1 = 'conflict'\n",
    "concept2 = 'food_insecurity'\n",
    "\n",
    "ind1 = G.nodes[concept1]['indicators'][0]\n",
    "ind2 = G.nodes[concept2]['indicators'][0]\n",
    "\n",
    "plot_data = {variable: {'xs':[], 'ys':[],\n",
    "                        'ylabel': variable.replace('_', ' ').capitalize(), 'units': '',\n",
    "                       'ax_number': i} \n",
    "             for i, variable in enumerate((concept1, concept2, ind1.name, ind2.name))}\n",
    "\n",
    "plot_data[ind1.name]['units'] = f\"({ind1.unit})\"\n",
    "plot_data[ind2.name]['units'] = f\"({ind2.unit})\"\n",
    "\n",
    "n_timesteps = 5\n",
    "for day in range(n_timesteps):\n",
    "    update(G)\n",
    "    for concept in (concept1, concept2):\n",
    "        for datapoint in G.nodes[concept]['rv'].dataset:\n",
    "            plot_data[concept]['xs'].append(day+1)\n",
    "            plot_data[concept]['ys'].append(datapoint)\n",
    "        indicator = G.nodes[concept]['indicators'][0]\n",
    "        for datapoint in indicator.dataset:\n",
    "            if indicator.name != ind2.name:\n",
    "                plot_data[indicator.name]['xs'].append(day+1)\n",
    "                plot_data[indicator.name]['ys'].append(datapoint)\n",
    "            else:\n",
    "                if 0 < datapoint < 100:\n",
    "                    plot_data[indicator.name]['xs'].append(day+1)\n",
    "                    plot_data[indicator.name]['ys'].append(datapoint)\n",
    "                    \n",
    "        \n",
    "\n",
    "\n",
    "fig, axes = plt.subplots(1,4, figsize=(20, 4))\n",
    "for variable, plot_data in plot_data.items():\n",
    "    ax = axes[plot_data['ax_number']]\n",
    "    ax.set_xlabel('Time step')\n",
    "    ax.set_xticks(range(6))\n",
    "    ax.set_title(_insert_line_breaks(' '.join((plot_data['ylabel'], plot_data['units']))))\n",
    "    sns.lineplot(plot_data['xs'], plot_data['ys'], ax = ax)"
   ]
  },
  {
   "cell_type": "markdown",
   "metadata": {},
   "source": [
    "Still todo: truncate probability distributions from 0 to 100 for percentages."
   ]
  },
  {
   "cell_type": "code",
   "execution_count": null,
   "metadata": {
    "slideshow": {
     "slide_type": "slide"
    }
   },
   "outputs": [],
   "source": [
    "from delphi.inspection import inspect_edge\n",
    "inspect_edge(G, 'conflict', 'food_insecurity')"
   ]
  },
  {
   "cell_type": "markdown",
   "metadata": {
    "slideshow": {
     "slide_type": "slide"
    }
   },
   "source": [
    "## Exploring the unknown unknowns"
   ]
  },
  {
   "cell_type": "code",
   "execution_count": null,
   "metadata": {},
   "outputs": [],
   "source": [
    "url = 'http://vision.cs.arizona.edu/adarsh/export/demos/data/pi_mtg_demo_unfiltered.pkl'\n",
    "sts=pickle.load(get_data_from_url(url))"
   ]
  },
  {
   "cell_type": "code",
   "execution_count": null,
   "metadata": {
    "slideshow": {
     "slide_type": "subslide"
    }
   },
   "outputs": [],
   "source": [
    "from delphi.subgraphs import get_subgraph_for_concept_pair\n",
    "G = AnalysisGraph.from_statements(sts)\n",
    "merge_nodes(G, 'food_security', 'food_insecurity', same_polarity=False)\n",
    "G = get_subgraph_for_concept_pair(G, 'drought', 'food_insecurity', cutoff=2)\n",
    "visualize(G, nodes_to_highlight=['drought','food_insecurity'])"
   ]
  },
  {
   "cell_type": "markdown",
   "metadata": {
    "slideshow": {
     "slide_type": "slide"
    }
   },
   "source": [
    "# Causal analysis graphs from <span style='color:royalblue; font-style: italic'>Software</span>"
   ]
  },
  {
   "cell_type": "markdown",
   "metadata": {
    "slideshow": {
     "slide_type": "subslide"
    }
   },
   "source": [
    "## Original Fortran program"
   ]
  },
  {
   "cell_type": "code",
   "execution_count": null,
   "metadata": {
    "slideshow": {
     "slide_type": "-"
    }
   },
   "outputs": [],
   "source": [
    "jt.display(f'../data/program_analysis/crop_yield.f')"
   ]
  },
  {
   "cell_type": "code",
   "execution_count": null,
   "metadata": {
    "slideshow": {
     "slide_type": "subslide"
    }
   },
   "outputs": [],
   "source": [
    "%cd ../delphi/program_analysis/autoTranslate/\n",
    "!./autoTranslate ../../../data/program_analysis/crop_yield.f\n",
    "%cd ../../../notebooks/"
   ]
  },
  {
   "cell_type": "markdown",
   "metadata": {
    "slideshow": {
     "slide_type": "subslide"
    }
   },
   "source": [
    "## AST in XML Format"
   ]
  },
  {
   "cell_type": "code",
   "execution_count": null,
   "metadata": {
    "slideshow": {
     "slide_type": "-"
    }
   },
   "outputs": [],
   "source": [
    "jt.display('../delphi/program_analysis/autoTranslate/crop_yield.xml')"
   ]
  },
  {
   "cell_type": "markdown",
   "metadata": {
    "slideshow": {
     "slide_type": "subslide"
    }
   },
   "source": [
    "## Equivalent Python code"
   ]
  },
  {
   "cell_type": "code",
   "execution_count": null,
   "metadata": {
    "slideshow": {
     "slide_type": "-"
    }
   },
   "outputs": [],
   "source": [
    "jt.display('../delphi/program_analysis/autoTranslate/crop_yield.py')"
   ]
  },
  {
   "cell_type": "markdown",
   "metadata": {
    "slideshow": {
     "slide_type": "subslide"
    }
   },
   "source": [
    "## Extracted lambda functions"
   ]
  },
  {
   "cell_type": "code",
   "execution_count": null,
   "metadata": {
    "slideshow": {
     "slide_type": "-"
    }
   },
   "outputs": [],
   "source": [
    "jt.display('../delphi/program_analysis/autoTranslate/lambdas.py')"
   ]
  },
  {
   "cell_type": "markdown",
   "metadata": {
    "slideshow": {
     "slide_type": "subslide"
    }
   },
   "source": [
    "## DBN-JSON file"
   ]
  },
  {
   "cell_type": "code",
   "execution_count": null,
   "metadata": {
    "attributes": {
     "classes": [],
     "id": "",
     "n": "3"
    },
    "slideshow": {
     "slide_type": "-"
    }
   },
   "outputs": [],
   "source": [
    "dbn_json = '../delphi/program_analysis/autoTranslate/pgm.json'\n",
    "jt.display(dbn_json)"
   ]
  },
  {
   "cell_type": "markdown",
   "metadata": {
    "slideshow": {
     "slide_type": "subslide"
    }
   },
   "source": [
    "## Executable DBN - Loop plate representation"
   ]
  },
  {
   "cell_type": "code",
   "execution_count": null,
   "metadata": {
    "attributes": {
     "classes": [],
     "id": "",
     "n": "2"
    },
    "slideshow": {
     "slide_type": "slide"
    }
   },
   "outputs": [],
   "source": [
    "from delphi.program_analysis.scopes import *\n",
    "root = Scope.from_json(dbn_json)\n",
    "A = root.to_agraph()\n",
    "jt.display_image(A.draw(format='png', prog='dot'))"
   ]
  },
  {
   "cell_type": "markdown",
   "metadata": {
    "slideshow": {
     "slide_type": "slide"
    }
   },
   "source": [
    "## High-level representation of CAG from program"
   ]
  },
  {
   "cell_type": "code",
   "execution_count": null,
   "metadata": {
    "slideshow": {
     "slide_type": "fragment"
    }
   },
   "outputs": [],
   "source": [
    "import sys\n",
    "sys.path.append('../delphi/program_analysis/autoTranslate')\n",
    "import lambdas\n",
    "from delphi.program_analysis.ProgramAnalysisGraph import ProgramAnalysisGraph\n",
    "from delphi.bmi import *\n",
    "G = ProgramAnalysisGraph.from_agraph(A, lambdas)\n",
    "initialize(G)\n",
    "from delphi.visualization import visualize\n",
    "visualize(G, show_values = True)"
   ]
  },
  {
   "cell_type": "code",
   "execution_count": null,
   "metadata": {
    "slideshow": {
     "slide_type": "subslide"
    }
   },
   "outputs": [],
   "source": [
    "update(G)\n",
    "visualize(G, show_values = True)"
   ]
  },
  {
   "cell_type": "code",
   "execution_count": null,
   "metadata": {
    "slideshow": {
     "slide_type": "subslide"
    }
   },
   "outputs": [],
   "source": [
    "update(G)\n",
    "visualize(G, show_values = True)"
   ]
  },
  {
   "cell_type": "markdown",
   "metadata": {
    "slideshow": {
     "slide_type": "slide"
    }
   },
   "source": [
    "## Sensitivity Analysis"
   ]
  },
  {
   "cell_type": "code",
   "execution_count": null,
   "metadata": {
    "slideshow": {
     "slide_type": "fragment"
    }
   },
   "outputs": [],
   "source": [
    "%matplotlib inline\n",
    "import seaborn as sns\n",
    "sns.set_style('darkgrid')\n",
    "from IPython.display import set_matplotlib_formats\n",
    "set_matplotlib_formats('retina')\n",
    "import numpy as np\n",
    "from matplotlib import pyplot as plt\n",
    "from delphi.utils import compose, rcompose\n",
    "from delphi.program_analysis.ProgramAnalysisGraph import ProgramAnalysisGraph\n",
    "\n",
    "def make_plots(n_samples, deterministic = True):\n",
    "    variables = ('RAIN', 'TOTAL_RAIN', 'YIELD_EST')\n",
    "    vals = {k:[] for k in variables}\n",
    "    days = {k:[] for k in variables}\n",
    "    palette = sns.color_palette()\n",
    "    colors = {k:palette[i] for i, k in enumerate(vals)}\n",
    "    fig, axes = plt.subplots(1,len(vals), figsize=(18, 5))\n",
    "    ax = {k:axes[i] for i, k in enumerate(vals)}\n",
    "\n",
    "    for _ in range(n_samples):\n",
    "        G = ProgramAnalysisGraph.from_agraph(A, lambdas)\n",
    "        if not deterministic:\n",
    "            G.nodes['MAX_RAIN']['init_fn'] = lambda: np.random.normal(4, 1)\n",
    "        initialize(G)\n",
    "        for i in range(1,31):\n",
    "            update(G)\n",
    "            for k in vals:\n",
    "                vals[k].append(G.nodes[k]['value'])\n",
    "                days[k].append(G.nodes['DAY']['value'])\n",
    "\n",
    "    for k in vals:\n",
    "        sns.lineplot(days[k], vals[k], ax = ax[k], label=k, color=colors[k])\n",
    "        ax[k].set_xlabel('DAY', fontsize=20)\n",
    "        ax[k].set_ylabel(k, fontsize=20)\n",
    "\n",
    "    plt.tight_layout()\n",
    "\n",
    "make_plots(10, deterministic=False)"
   ]
  },
  {
   "cell_type": "code",
   "execution_count": null,
   "metadata": {},
   "outputs": [],
   "source": []
  }
 ],
 "metadata": {
  "kernelspec": {
   "display_name": "Python 3",
   "language": "python",
   "name": "python3"
  },
  "language_info": {
   "codemirror_mode": {
    "name": "ipython",
    "version": 3
   },
   "file_extension": ".py",
   "mimetype": "text/x-python",
   "name": "python",
   "nbconvert_exporter": "python",
   "pygments_lexer": "ipython3",
   "version": "3.6.5"
  },
  "toc": {
   "base_numbering": 1,
   "nav_menu": {},
   "number_sections": true,
   "sideBar": true,
   "skip_h1_title": true,
   "title_cell": "Table of Contents",
   "title_sidebar": "Contents",
   "toc_cell": false,
   "toc_position": {
    "height": "calc(100% - 180px)",
    "left": "10px",
    "top": "150px",
    "width": "165px"
   },
   "toc_section_display": true,
   "toc_window_display": false
  }
 },
 "nbformat": 4,
 "nbformat_minor": 2
}

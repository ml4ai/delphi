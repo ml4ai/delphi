{
 "cells": [
  {
   "cell_type": "markdown",
   "id": "9df716d1-394f-4c26-9b68-490a1e9a0aa0",
   "metadata": {},
   "source": [
    "# 2021 June Embed"
   ]
  },
  {
   "cell_type": "markdown",
   "id": "d2b5aeec-2aeb-49b5-8259-8a6aacaf58a2",
   "metadata": {},
   "source": [
    "## Imports"
   ]
  },
  {
   "cell_type": "code",
   "execution_count": null,
   "id": "cd223475-e5b0-447e-b3c6-5f17600e495d",
   "metadata": {},
   "outputs": [],
   "source": [
    "import sys\n",
    "import delphi.plotter as dp\n",
    "from delphi.cpp.DelphiPython import AnalysisGraph, InitialBeta, InitialDerivative\n",
    "import pandas as pd\n",
    "import numpy as np\n",
    "#import graphviz\n",
    "#from IPython.display import display\n",
    "from IPython.display import Image\n",
    "\n",
    "import warnings\n",
    "warnings.filterwarnings('ignore')"
   ]
  },
  {
   "cell_type": "markdown",
   "id": "457bec18-bf5d-45a8-a945-2a49083e7150",
   "metadata": {},
   "source": [
    "## Read Data"
   ]
  },
  {
   "cell_type": "code",
   "execution_count": null,
   "id": "b64cc638-399e-4a43-880a-3f97739bbf81",
   "metadata": {},
   "outputs": [],
   "source": [
    "df_temp = pd.read_csv('../../data/mini_use_case/TerraClimateOromiaMonthlyMaxTemp.csv')\n",
    "temperature = df_temp['(deg C) Max Temperature (TerraClimate) at State, 1958-01-01 to 2019-12-31'].tolist()[:72]\n",
    "\n",
    "df_rain = pd.read_csv('../../data/mini_use_case/TerraClimateOromiaMontlhyPrecip.csv')\n",
    "rain = df_rain['(mm) Precipitation (TerraClimate) at State, 1958-01-01 to 2019-12-31'].tolist()[:72]"
   ]
  },
  {
   "cell_type": "markdown",
   "id": "5410fae7-ee6c-4cb6-9ad7-b9b8661d274d",
   "metadata": {},
   "source": [
    "## Create Base CAG"
   ]
  },
  {
   "cell_type": "code",
   "execution_count": null,
   "id": "8d459a6a-6994-41f3-9c1f-2ad821fe2686",
   "metadata": {},
   "outputs": [],
   "source": [
    "statements = [\n",
    "    (\n",
    "        (\"\", 1, \"rain\"),\n",
    "        (\"\", -1, \"temperature\"),\n",
    "    )\n",
    "]\n",
    "\n",
    "data = {\"rain\": (\"Monthly Precipitation (mm)\", rain),\n",
    "        \"temperature\": (\"Monthly Max Temperature (F)\", temperature)\n",
    "        }\n",
    "G = AnalysisGraph.from_causal_fragments_with_data((statements, data), kde_kernels=1000)\n",
    "\n",
    "G.to_png('2021_june_embed.png', rankdir=\"TB\", simplified_labels=False)\n",
    "Image('2021_june_embed.png')"
   ]
  },
  {
   "cell_type": "markdown",
   "id": "f2367faf-50b0-434d-8f9f-74d8cb90a178",
   "metadata": {},
   "source": [
    "## Train Model\n",
    "### Head node modeling related parameteres\n",
    "<ol>\n",
    "<li>concept_periods</li>\n",
    "    <ul>\n",
    "        <li>Period for each head concept.</li>\n",
    "        <li>Default is 1.</li>\n",
    "        <li>A dictionary: {'concept name': period}</li>\n",
    "    </ul>\n",
    "<li>concept_center_measures</li>\n",
    "    <ul>\n",
    "        <li>How to calculate the central tendency for each head concept.</li>\n",
    "        <li>mean or median.</li>\n",
    "        <li>Default is median.</li>\n",
    "    </ul>\n",
    "\n",
    "<li>concept_models</li>\n",
    "    <ul>\n",
    "        <li>The model to be used for the head concept.</li>\n",
    "        <li>The choises are:</li>\n",
    "            <ol>\n",
    "                <li>center - Always predicts the center value for each partition.</li>\n",
    "                <--li>absolute_change - Predicts based on the absolute change between adjacent partiton centers. $ac_{i} = center_{i+1} - center_i$</li-->\n",
    "                <--li>relative_change - Predicts based on the absolute change between adjacent partiton centers.</li-->\n",
    "            </ol>\n",
    "    </ul>\n",
    "\n",
    "</ol>"
   ]
  },
  {
   "cell_type": "code",
   "execution_count": null,
   "id": "46dfa95c-9529-4cbe-ab3c-ed71b7d4e4f1",
   "metadata": {},
   "outputs": [],
   "source": [
    "def train_predict_plot(G, period, center, model, constraints={}, concept_min_vals=-10000, concept_max_vals=1000):\n",
    "    # Training\n",
    "    G.run_train_model(model_id='june_embed'\n",
    "                      res=70,\n",
    "                      burn=0,\n",
    "                      initial_beta=InitialBeta.ZERO,\n",
    "                      initial_derivative=InitialDerivative.DERI_ZERO,\n",
    "                      use_heuristic=False,\n",
    "                      use_continuous=False,\n",
    "                      train_start_timestep=0,\n",
    "                      train_timesteps=48,\n",
    "                      concept_periods={'rain': period},\n",
    "                      concept_center_measures={'rain': center},  # mean, median\n",
    "                      concept_models={'rain': model},  # center, absolute_change, relative_change\n",
    "                      concept_min_vals={'rain': concept_min_vals},\n",
    "                      concept_max_vals={'rain': concept_max_vals}\n",
    "                      )\n",
    "\n",
    "    # Predicting\n",
    "    G.generate_prediction(49, 23, constraints=constraints)\n",
    "\n",
    "    # Plotting\n",
    "    model_state = G.get_complete_state()\n",
    "    dp.delphi_plotter(model_state, num_bins=400, rotation=45,\n",
    "                out_dir='plots', file_name_prefix='', save_csv=False)"
   ]
  },
  {
   "cell_type": "markdown",
   "id": "124583af-929a-4cfb-b8a5-a0fdc844a4d3",
   "metadata": {},
   "source": [
    "#### Using median"
   ]
  },
  {
   "cell_type": "code",
   "execution_count": null,
   "id": "76b4392b-7e4a-43ea-9927-476dbe13f14a",
   "metadata": {},
   "outputs": [],
   "source": [
    "train_predict_plot(G, period=12, center='median', model='center')\n",
    "Image('plots/8_Predictions_Median_and_CI_Monthly Precipitation (mm).png')"
   ]
  },
  {
   "cell_type": "markdown",
   "id": "55816e8f-7f47-4a7f-9a3b-2e8add6ec6ad",
   "metadata": {},
   "source": [
    "#### Using mean"
   ]
  },
  {
   "cell_type": "code",
   "execution_count": null,
   "id": "489934e5-366c-46f2-9e4e-6559e4bf2628",
   "metadata": {},
   "outputs": [],
   "source": [
    "train_predict_plot(G, period=12, center='mean', model='center')\n",
    "Image('plots/8_Predictions_Median_and_CI_Monthly Precipitation (mm).png')"
   ]
  },
  {
   "cell_type": "markdown",
   "id": "4f23510a-4c5b-4d86-a801-6b8dc10dd1c9",
   "metadata": {},
   "source": [
    "#### Let us try a different period"
   ]
  },
  {
   "cell_type": "code",
   "execution_count": null,
   "id": "c2d5a74c-7ae1-47c7-bcf1-67b0cbafec19",
   "metadata": {},
   "outputs": [],
   "source": [
    "train_predict_plot(G, period=24, center='median', model='center')\n",
    "Image('plots/8_Predictions_Median_and_CI_Monthly Precipitation (mm).png')"
   ]
  },
  {
   "cell_type": "markdown",
   "id": "58d53843-d06e-47a8-bac0-e883c26de74b",
   "metadata": {},
   "source": [
    "### Constraints\n",
    "\n",
    "<p>Three model options, center, absolute_change and relative_change behave differently upon constraints.</p>\n",
    "\n",
    "#### center with constraints"
   ]
  },
  {
   "cell_type": "code",
   "execution_count": null,
   "id": "5ade97db-54f7-4488-9118-122f354811fc",
   "metadata": {},
   "outputs": [],
   "source": [
    "train_predict_plot(G, period=12, center='median', model='center', constraints={12: [('rain', 'Monthly Precipitation (mm)', 120)]})\n",
    "Image('plots/8_Predictions_Median_and_CI_Monthly Precipitation (mm).png')"
   ]
  },
  {
   "cell_type": "markdown",
   "id": "cdfa6984-173a-4720-a870-7ea5fd7fea5e",
   "metadata": {},
   "source": [
    "### Guiding the modeler with bounds"
   ]
  },
  {
   "cell_type": "code",
   "execution_count": null,
   "id": "49329d14-9448-4f82-b90e-6de976b24cb5",
   "metadata": {},
   "outputs": [],
   "source": [
    "train_predict_plot(G, period=12, center='median', model='absolute_change', constraints={7: [('rain', 'Monthly Precipitation (mm)', 15)]})\n",
    "Image('plots/8_Predictions_Median_and_CI_Monthly Precipitation (mm).png')"
   ]
  },
  {
   "cell_type": "code",
   "execution_count": null,
   "id": "e0177346-4246-4fed-b2ea-7aa89c0d85cd",
   "metadata": {},
   "outputs": [],
   "source": [
    "train_predict_plot(G, period=12, center='median', model='absolute_change', constraints={7: [('rain', 'Monthly Precipitation (mm)', 15)]}, concept_min_vals=0)\n",
    "Image('plots/8_Predictions_Median_and_CI_Monthly Precipitation (mm).png')"
   ]
  },
  {
   "cell_type": "code",
   "execution_count": null,
   "id": "356f04a5-10e4-4927-b331-25558f230ea7",
   "metadata": {},
   "outputs": [],
   "source": []
  }
 ],
 "metadata": {
  "kernelspec": {
   "display_name": "Python 3",
   "language": "python",
   "name": "python3"
  },
  "language_info": {
   "codemirror_mode": {
    "name": "ipython",
    "version": 3
   },
   "file_extension": ".py",
   "mimetype": "text/x-python",
   "name": "python",
   "nbconvert_exporter": "python",
   "pygments_lexer": "ipython3",
   "version": "3.8.10"
  }
 },
 "nbformat": 4,
 "nbformat_minor": 5
}

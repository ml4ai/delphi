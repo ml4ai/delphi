{
 "cells": [
  {
   "cell_type": "code",
   "execution_count": null,
   "metadata": {},
   "outputs": [],
   "source": [
    "using Catlab\n",
    "using Catlab.WiringDiagrams\n",
    "using Catlab.Doctrines\n",
    "import Catlab.Doctrines: ⊗, id\n",
    "import Base: ∘\n",
    "\n",
    "using Catlab.Graphics\n",
    "import Catlab.Graphics: Graphviz\n",
    "\n",
    "show_diagram(d::WiringDiagram) = to_graphviz(d,\n",
    "    direction=:vertical,\n",
    "    labels=true, label_attr=:xlabel,\n",
    "    node_attrs=Graphviz.Attributes(\n",
    "        :fontname => \"Courier\",\n",
    "    ),\n",
    "    edge_attrs=Graphviz.Attributes(\n",
    "        :fontname => \"Courier\",\n",
    "    )\n",
    ")\n",
    "\n",
    "⊗(a::WiringDiagram, b::WiringDiagram) = otimes(a, b)\n",
    "∘(a::WiringDiagram, b::WiringDiagram) = compose(b, a)\n",
    "⊚(a,b) = b ∘ a"
   ]
  },
  {
   "cell_type": "code",
   "execution_count": null,
   "metadata": {},
   "outputs": [],
   "source": [
    "# =====================================================================\n",
    "# Translated lambda functions for SIR-simple model from Python to Julia\n",
    "# =====================================================================\n",
    "function assg__rec(γ, I, δt)\n",
    "    return (γ*I) * δt\n",
    "end\n",
    "\n",
    "function assg__inf(β, S, I, R, δt)\n",
    "    return (-(β*S*I) / (S+I+R)) * δt\n",
    "end\n",
    "\n",
    "function assg__I1(I, infected, recovered)\n",
    "    return I + infected - recovered\n",
    "end\n",
    "\n",
    "function assg__R1(R, recovered)\n",
    "    return R + recovered\n",
    "end\n",
    "\n",
    "function assg__S1(S, infected)\n",
    "    return S - infected\n",
    "end"
   ]
  },
  {
   "cell_type": "code",
   "execution_count": null,
   "metadata": {},
   "outputs": [],
   "source": [
    "# ==============================================================================\n",
    "# Translated wiring of the SIR-simple model\n",
    "# from GrFN to WiringDiagram specification\n",
    "# ==============================================================================\n",
    "β, S0, I0, R0, δt, γ = Ob(FreeSymmetricMonoidalCategory, :β, :S0, :I0, :R0, :δt, :γ)\n",
    "id_S0 = id(Ports([S0]))\n",
    "id_I0 = id(Ports([I0]))\n",
    "id_R0 = id(Ports([R0]))\n",
    "\n",
    "IN_0 = WiringDiagram(Hom(:L0_REWIRE, S0 ⊗ I0 ⊗ R0 ⊗ β ⊗ γ ⊗ δt, S0 ⊗ I0 ⊗ R0 ⊗ β ⊗ S0 ⊗ I0 ⊗ R0 ⊗ δt ⊗ γ ⊗ I0 ⊗ δt))\n",
    "rec, inf = Ob(FreeSymmetricMonoidalCategory, :rec, :inf)\n",
    "WD_inf = WiringDiagram(Hom(assg__inf, β ⊗ S0 ⊗ I0 ⊗ R0 ⊗ δt, inf))\n",
    "WD_rec = WiringDiagram(Hom(assg__rec, γ ⊗ I0 ⊗ δt, rec))\n",
    "OUT_1 = IN_0 ⊚ (id_S0 ⊗ id_I0 ⊗ id_R0 ⊗ WD_inf ⊗ WD_rec)\n",
    "\n",
    "IN_1 = WiringDiagram(Hom(:L1_REWIRE, S0 ⊗ I0 ⊗ R0 ⊗ inf ⊗ rec, S0 ⊗ inf ⊗ I0 ⊗ inf ⊗ rec ⊗ R0 ⊗ rec))\n",
    "S1, I1, R1 = Ob(FreeSymmetricMonoidalCategory, :S1, :I1, :R1)\n",
    "WD_S1 = WiringDiagram(Hom(assg__S1, S0 ⊗ inf, S1))\n",
    "WD_I1 = WiringDiagram(Hom(assg__I1, I0 ⊗ inf ⊗ rec, I1))\n",
    "WD_R1 = WiringDiagram(Hom(assg__R1, R0 ⊗ rec, R1))\n",
    "OUT_2 = OUT_1 ⊚ IN_1 ⊚ (WD_S1 ⊗ WD_I1 ⊗ WD_R1)\n",
    "\n",
    "\n",
    "println(OUT_2)"
   ]
  },
  {
   "cell_type": "code",
   "execution_count": null,
   "metadata": {},
   "outputs": [],
   "source": [
    "show_diagram(OUT_2)"
   ]
  },
  {
   "cell_type": "code",
   "execution_count": null,
   "metadata": {},
   "outputs": [],
   "source": []
  }
 ],
 "metadata": {
  "kernelspec": {
   "display_name": "Julia 1.1.0",
   "language": "julia",
   "name": "julia-1.1"
  },
  "language_info": {
   "file_extension": ".jl",
   "mimetype": "application/julia",
   "name": "julia",
   "version": "1.1.0"
  }
 },
 "nbformat": 4,
 "nbformat_minor": 2
}

{
 "cells": [
  {
   "cell_type": "markdown",
   "metadata": {},
   "source": [
    "# Program Analysis Seedling Kickoff Demo\n",
    "\n",
    "*University of Arizona*\n",
    "\n",
    "*July 26, 2018*\n",
    "\n",
    "\n",
    "In this demo we will show how a dynamic Bayes network (DBN) can be constructed from the source code for a FORTRAN program. This notebook has been tested with the version of Delphi corresponding to the commit hash below."
   ]
  },
  {
   "cell_type": "code",
   "execution_count": 1,
   "metadata": {},
   "outputs": [
    {
     "name": "stdout",
     "output_type": "stream",
     "text": [
      "9fb5f589918e0fd1a6d2407b5e006f16c9e6d7f6\r\n"
     ]
    }
   ],
   "source": [
    "!git rev-parse HEAD"
   ]
  },
  {
   "cell_type": "markdown",
   "metadata": {},
   "source": [
    "Some preliminaries:"
   ]
  },
  {
   "cell_type": "code",
   "execution_count": 2,
   "metadata": {
    "scrolled": false
   },
   "outputs": [
    {
     "name": "stderr",
     "output_type": "stream",
     "text": [
      "WARNING: [2018-07-21 16:26:48] indra/eidos - Could not instantiate Eidos reader, text reading will not be available.\n"
     ]
    }
   ],
   "source": [
    "%load_ext autoreload\n",
    "%autoreload 2\n",
    "import json\n",
    "import delphi.program_analysis as pa\n",
    "from IPython.core.display import Image\n",
    "import delphi.jupyter_tools as jt"
   ]
  },
  {
   "cell_type": "markdown",
   "metadata": {},
   "source": [
    "We start with the FORTRAN program, `crop_yield.f` shown below."
   ]
  },
  {
   "cell_type": "code",
   "execution_count": 4,
   "metadata": {
    "scrolled": true
   },
   "outputs": [
    {
     "data": {
      "text/html": [
       "<style>.pygments .hll { background-color: #ffffcc }\n",
       ".pygments  { background: #f8f8f8; }\n",
       ".pygments .c { color: #408080; font-style: italic } /* Comment */\n",
       ".pygments .err { border: 1px solid #FF0000 } /* Error */\n",
       ".pygments .k { color: #008000; font-weight: bold } /* Keyword */\n",
       ".pygments .o { color: #666666 } /* Operator */\n",
       ".pygments .ch { color: #408080; font-style: italic } /* Comment.Hashbang */\n",
       ".pygments .cm { color: #408080; font-style: italic } /* Comment.Multiline */\n",
       ".pygments .cp { color: #BC7A00 } /* Comment.Preproc */\n",
       ".pygments .cpf { color: #408080; font-style: italic } /* Comment.PreprocFile */\n",
       ".pygments .c1 { color: #408080; font-style: italic } /* Comment.Single */\n",
       ".pygments .cs { color: #408080; font-style: italic } /* Comment.Special */\n",
       ".pygments .gd { color: #A00000 } /* Generic.Deleted */\n",
       ".pygments .ge { font-style: italic } /* Generic.Emph */\n",
       ".pygments .gr { color: #FF0000 } /* Generic.Error */\n",
       ".pygments .gh { color: #000080; font-weight: bold } /* Generic.Heading */\n",
       ".pygments .gi { color: #00A000 } /* Generic.Inserted */\n",
       ".pygments .go { color: #888888 } /* Generic.Output */\n",
       ".pygments .gp { color: #000080; font-weight: bold } /* Generic.Prompt */\n",
       ".pygments .gs { font-weight: bold } /* Generic.Strong */\n",
       ".pygments .gu { color: #800080; font-weight: bold } /* Generic.Subheading */\n",
       ".pygments .gt { color: #0044DD } /* Generic.Traceback */\n",
       ".pygments .kc { color: #008000; font-weight: bold } /* Keyword.Constant */\n",
       ".pygments .kd { color: #008000; font-weight: bold } /* Keyword.Declaration */\n",
       ".pygments .kn { color: #008000; font-weight: bold } /* Keyword.Namespace */\n",
       ".pygments .kp { color: #008000 } /* Keyword.Pseudo */\n",
       ".pygments .kr { color: #008000; font-weight: bold } /* Keyword.Reserved */\n",
       ".pygments .kt { color: #B00040 } /* Keyword.Type */\n",
       ".pygments .m { color: #666666 } /* Literal.Number */\n",
       ".pygments .s { color: #BA2121 } /* Literal.String */\n",
       ".pygments .na { color: #7D9029 } /* Name.Attribute */\n",
       ".pygments .nb { color: #008000 } /* Name.Builtin */\n",
       ".pygments .nc { color: #0000FF; font-weight: bold } /* Name.Class */\n",
       ".pygments .no { color: #880000 } /* Name.Constant */\n",
       ".pygments .nd { color: #AA22FF } /* Name.Decorator */\n",
       ".pygments .ni { color: #999999; font-weight: bold } /* Name.Entity */\n",
       ".pygments .ne { color: #D2413A; font-weight: bold } /* Name.Exception */\n",
       ".pygments .nf { color: #0000FF } /* Name.Function */\n",
       ".pygments .nl { color: #A0A000 } /* Name.Label */\n",
       ".pygments .nn { color: #0000FF; font-weight: bold } /* Name.Namespace */\n",
       ".pygments .nt { color: #008000; font-weight: bold } /* Name.Tag */\n",
       ".pygments .nv { color: #19177C } /* Name.Variable */\n",
       ".pygments .ow { color: #AA22FF; font-weight: bold } /* Operator.Word */\n",
       ".pygments .w { color: #bbbbbb } /* Text.Whitespace */\n",
       ".pygments .mb { color: #666666 } /* Literal.Number.Bin */\n",
       ".pygments .mf { color: #666666 } /* Literal.Number.Float */\n",
       ".pygments .mh { color: #666666 } /* Literal.Number.Hex */\n",
       ".pygments .mi { color: #666666 } /* Literal.Number.Integer */\n",
       ".pygments .mo { color: #666666 } /* Literal.Number.Oct */\n",
       ".pygments .sa { color: #BA2121 } /* Literal.String.Affix */\n",
       ".pygments .sb { color: #BA2121 } /* Literal.String.Backtick */\n",
       ".pygments .sc { color: #BA2121 } /* Literal.String.Char */\n",
       ".pygments .dl { color: #BA2121 } /* Literal.String.Delimiter */\n",
       ".pygments .sd { color: #BA2121; font-style: italic } /* Literal.String.Doc */\n",
       ".pygments .s2 { color: #BA2121 } /* Literal.String.Double */\n",
       ".pygments .se { color: #BB6622; font-weight: bold } /* Literal.String.Escape */\n",
       ".pygments .sh { color: #BA2121 } /* Literal.String.Heredoc */\n",
       ".pygments .si { color: #BB6688; font-weight: bold } /* Literal.String.Interpol */\n",
       ".pygments .sx { color: #008000 } /* Literal.String.Other */\n",
       ".pygments .sr { color: #BB6688 } /* Literal.String.Regex */\n",
       ".pygments .s1 { color: #BA2121 } /* Literal.String.Single */\n",
       ".pygments .ss { color: #19177C } /* Literal.String.Symbol */\n",
       ".pygments .bp { color: #008000 } /* Name.Builtin.Pseudo */\n",
       ".pygments .fm { color: #0000FF } /* Name.Function.Magic */\n",
       ".pygments .vc { color: #19177C } /* Name.Variable.Class */\n",
       ".pygments .vg { color: #19177C } /* Name.Variable.Global */\n",
       ".pygments .vi { color: #19177C } /* Name.Variable.Instance */\n",
       ".pygments .vm { color: #19177C } /* Name.Variable.Magic */\n",
       ".pygments .il { color: #666666 } /* Literal.Number.Integer.Long */</style><div class=\"pygments\"><pre><span></span><span class=\"lineno\"> 1 </span><span class=\"c\">************************************************************************</span>\n",
       "<span class=\"lineno\"> 2 </span><span class=\"c\">*     UPDATE_EST - Updates the estimated yield of magic beans given </span>\n",
       "<span class=\"lineno\"> 3 </span><span class=\"c\">*       some additional amount of rainfall</span>\n",
       "<span class=\"lineno\"> 4 </span><span class=\"c\">************************************************************************</span>\n",
       "<span class=\"lineno\"> 5 </span><span class=\"c\">*</span>\n",
       "<span class=\"lineno\"> 6 </span><span class=\"c\">*     VARIABLES</span>\n",
       "<span class=\"lineno\"> 7 </span><span class=\"c\">*     </span>\n",
       "<span class=\"lineno\"> 8 </span><span class=\"c\">*     INPUT RAIN      = Additional rainfall</span>\n",
       "<span class=\"lineno\"> 9 </span><span class=\"c\">*</span>\n",
       "<span class=\"lineno\">10 </span><span class=\"c\">*     INOUT YIELD_EST = Crop yield to update</span>\n",
       "<span class=\"lineno\">11 </span><span class=\"c\">*</span>\n",
       "<span class=\"lineno\">12 </span><span class=\"c\">************************************************************************</span>\n",
       "<span class=\"lineno\">13 </span><span class=\"nl\">     </span> <span class=\"k\">SUBROUTINE </span><span class=\"n\">UPDATE_EST</span><span class=\"p\">(</span><span class=\"n\">RAIN</span><span class=\"p\">,</span> <span class=\"n\">TOTAL_RAIN</span><span class=\"p\">,</span> <span class=\"n\">YIELD_EST</span><span class=\"p\">)</span>\n",
       "<span class=\"lineno\">14 </span><span class=\"nl\">     </span>   <span class=\"kt\">DOUBLE PRECISION </span><span class=\"n\">RAIN</span><span class=\"p\">,</span> <span class=\"n\">YIELD_EST</span><span class=\"p\">,</span> <span class=\"n\">TOTAL_RAIN</span>\n",
       "<span class=\"lineno\">15 </span><span class=\"nl\">     </span>   <span class=\"n\">TOTAL_RAIN</span> <span class=\"o\">=</span> <span class=\"n\">TOTAL_RAIN</span> <span class=\"o\">+</span> <span class=\"n\">RAIN</span>\n",
       "<span class=\"lineno\">16 </span>\n",
       "<span class=\"lineno\">17 </span><span class=\"c\">*       Yield increases up to a point</span>\n",
       "<span class=\"lineno\">18 </span><span class=\"nl\">     </span>   <span class=\"k\">IF</span><span class=\"p\">(</span><span class=\"n\">TOTAL_RAIN</span> <span class=\"p\">.</span><span class=\"n\">le</span><span class=\"p\">.</span> <span class=\"mi\">40</span><span class=\"p\">)</span> <span class=\"k\">THEN</span>\n",
       "<span class=\"lineno\">19 </span><span class=\"nl\">     </span>       <span class=\"n\">YIELD_EST</span> <span class=\"o\">=</span> <span class=\"o\">-</span><span class=\"p\">(</span><span class=\"n\">TOTAL_RAIN</span> <span class=\"o\">-</span> <span class=\"mi\">40</span><span class=\"p\">)</span> <span class=\"o\">**</span> <span class=\"mi\">2</span> <span class=\"o\">/</span> <span class=\"mi\">16</span> <span class=\"o\">+</span> <span class=\"mi\">100</span>\n",
       "<span class=\"lineno\">20 </span>\n",
       "<span class=\"lineno\">21 </span><span class=\"c\">*       Then sharply declines</span>\n",
       "<span class=\"lineno\">22 </span><span class=\"nl\">     </span>   <span class=\"k\">ELSE</span>\n",
       "<span class=\"lineno\">23 </span><span class=\"nl\">     </span>       <span class=\"n\">YIELD_EST</span> <span class=\"o\">=</span> <span class=\"o\">-</span><span class=\"n\">TOTAL_RAIN</span> <span class=\"o\">+</span> <span class=\"mi\">140</span>\n",
       "<span class=\"lineno\">24 </span><span class=\"nl\">     </span>   <span class=\"n\">ENDIF</span>\n",
       "<span class=\"lineno\">25 </span>\n",
       "<span class=\"lineno\">26 </span><span class=\"nl\">     </span> <span class=\"k\">END SUBROUTINE </span><span class=\"n\">UPDATE_EST</span>\n",
       "<span class=\"lineno\">27 </span>\n",
       "<span class=\"lineno\">28 </span><span class=\"c\">************************************************************************</span>\n",
       "<span class=\"lineno\">29 </span><span class=\"c\">*     CROP_YIELD - Estimate the yield of magic beans given a simple </span>\n",
       "<span class=\"lineno\">30 </span><span class=\"c\">*       model for rainfall</span>\n",
       "<span class=\"lineno\">31 </span><span class=\"c\">************************************************************************</span>\n",
       "<span class=\"lineno\">32 </span><span class=\"c\">*</span>\n",
       "<span class=\"lineno\">33 </span><span class=\"c\">*     VARIABLES</span>\n",
       "<span class=\"lineno\">34 </span><span class=\"c\">*     </span>\n",
       "<span class=\"lineno\">35 </span><span class=\"c\">*     INPUT MAX_RAIN   = The maximum rain for the month</span>\n",
       "<span class=\"lineno\">36 </span><span class=\"c\">*     INPUT CONSISTENCY = The consistency of the rainfall </span>\n",
       "<span class=\"lineno\">37 </span><span class=\"c\">*       (higher = more consistent)</span>\n",
       "<span class=\"lineno\">38 </span><span class=\"c\">*     INPUT ABSORBTION = Estimates the % of rainfall absorbed into the</span>\n",
       "<span class=\"lineno\">39 </span><span class=\"c\">*       soil (i.e. % lost due to evaporation, runoff)</span>\n",
       "<span class=\"lineno\">40 </span><span class=\"c\">*</span>\n",
       "<span class=\"lineno\">41 </span><span class=\"c\">*     OUTPUT YIELD_EST = The estimated yield of magic beans</span>\n",
       "<span class=\"lineno\">42 </span><span class=\"c\">*</span>\n",
       "<span class=\"lineno\">43 </span><span class=\"c\">*     DAY              = The current day of the month</span>\n",
       "<span class=\"lineno\">44 </span><span class=\"c\">*     RAIN             = The rainfall estimate for the current day</span>\n",
       "<span class=\"lineno\">45 </span><span class=\"c\">*</span>\n",
       "<span class=\"lineno\">46 </span><span class=\"c\">************************************************************************</span>\n",
       "<span class=\"lineno\">47 </span><span class=\"nl\">     </span> <span class=\"k\">PROGRAM </span><span class=\"n\">CROP_YIELD</span>\n",
       "<span class=\"lineno\">48 </span><span class=\"nl\">     </span> <span class=\"k\">IMPLICIT NONE</span>\n",
       "<span class=\"lineno\">49 </span>\n",
       "<span class=\"lineno\">50 </span><span class=\"nl\">     </span> <span class=\"kt\">INTEGER </span><span class=\"n\">DAY</span>\n",
       "<span class=\"lineno\">51 </span><span class=\"nl\">     </span> <span class=\"kt\">DOUBLE PRECISION </span><span class=\"n\">RAIN</span><span class=\"p\">,</span> <span class=\"n\">YIELD_EST</span><span class=\"p\">,</span> <span class=\"n\">TOTAL_RAIN</span>\n",
       "<span class=\"lineno\">52 </span><span class=\"nl\">     </span> <span class=\"kt\">DOUBLE PRECISION </span><span class=\"n\">MAX_RAIN</span><span class=\"p\">,</span> <span class=\"n\">CONSISTENCY</span><span class=\"p\">,</span> <span class=\"n\">ABSORBTION</span>\n",
       "<span class=\"lineno\">53 </span>\n",
       "<span class=\"lineno\">54 </span><span class=\"nl\">     </span> <span class=\"n\">MAX_RAIN</span> <span class=\"o\">=</span> <span class=\"mf\">4.0</span>\n",
       "<span class=\"lineno\">55 </span><span class=\"nl\">     </span> <span class=\"n\">CONSISTENCY</span> <span class=\"o\">=</span> <span class=\"mi\">6</span><span class=\"mf\">4.0</span>\n",
       "<span class=\"lineno\">56 </span><span class=\"nl\">     </span> <span class=\"n\">ABSORBTION</span> <span class=\"o\">=</span> <span class=\"mf\">0.6</span>\n",
       "<span class=\"lineno\">57 </span><span class=\"nl\">     </span> \n",
       "<span class=\"lineno\">58 </span><span class=\"nl\">     </span> <span class=\"n\">YIELD_EST</span> <span class=\"o\">=</span> <span class=\"mi\">0</span>\n",
       "<span class=\"lineno\">59 </span><span class=\"nl\">     </span> <span class=\"n\">TOTAL_RAIN</span> <span class=\"o\">=</span> <span class=\"mi\">0</span>\n",
       "<span class=\"lineno\">60 </span> \n",
       "<span class=\"lineno\">61 </span><span class=\"nl\">     </span> <span class=\"k\">DO </span><span class=\"mi\">20</span> <span class=\"n\">DAY</span><span class=\"o\">=</span><span class=\"mi\">1</span><span class=\"p\">,</span><span class=\"mi\">31</span>\n",
       "<span class=\"lineno\">62 </span><span class=\"c\">*       Compute rainfall for the current day</span>\n",
       "<span class=\"lineno\">63 </span><span class=\"nl\">     </span>   <span class=\"n\">RAIN</span> <span class=\"o\">=</span> <span class=\"p\">(</span><span class=\"o\">-</span><span class=\"p\">(</span><span class=\"n\">DAY</span> <span class=\"o\">-</span> <span class=\"mi\">16</span><span class=\"p\">)</span> <span class=\"o\">**</span> <span class=\"mi\">2</span> <span class=\"o\">/</span> <span class=\"n\">CONSISTENCY</span> <span class=\"o\">+</span> <span class=\"n\">MAX_RAIN</span><span class=\"p\">)</span> <span class=\"o\">*</span> <span class=\"n\">ABSORBTION</span>\n",
       "<span class=\"lineno\">64 </span>\n",
       "<span class=\"lineno\">65 </span><span class=\"c\">*       Update rainfall estimate</span>\n",
       "<span class=\"lineno\">66 </span><span class=\"nl\">     </span>   <span class=\"k\">CALL </span><span class=\"n\">UPDATE_EST</span><span class=\"p\">(</span><span class=\"n\">RAIN</span><span class=\"p\">,</span> <span class=\"n\">TOTAL_RAIN</span><span class=\"p\">,</span> <span class=\"n\">YIELD_EST</span><span class=\"p\">)</span>\n",
       "<span class=\"lineno\">67 </span><span class=\"nl\">     </span>   <span class=\"k\">PRINT</span> <span class=\"o\">*</span><span class=\"p\">,</span> <span class=\"s2\">&quot;Day &quot;</span><span class=\"p\">,</span> <span class=\"n\">DAY</span><span class=\"p\">,</span> <span class=\"s2\">&quot; Estimate: &quot;</span><span class=\"p\">,</span> <span class=\"n\">YIELD_EST</span>\n",
       "<span class=\"lineno\">68 </span>\n",
       "<span class=\"lineno\">69 </span><span class=\"nl\">   20</span> <span class=\"n\">ENDDO</span>\n",
       "<span class=\"lineno\">70 </span>\n",
       "<span class=\"lineno\">71 </span><span class=\"nl\">     </span> <span class=\"k\">PRINT</span> <span class=\"o\">*</span><span class=\"p\">,</span> <span class=\"s2\">&quot;Crop Yield(%): &quot;</span><span class=\"p\">,</span> <span class=\"n\">YIELD_EST</span>\n",
       "<span class=\"lineno\">72 </span>\n",
       "<span class=\"lineno\">73 </span><span class=\"nl\">     </span> <span class=\"k\">END PROGRAM </span><span class=\"n\">CROP_YIELD</span>\n",
       "</pre></div>\n"
      ],
      "text/plain": [
       "<IPython.core.display.HTML object>"
      ]
     },
     "execution_count": 4,
     "metadata": {},
     "output_type": "execute_result"
    }
   ],
   "source": [
    "jt.display(f'../data/program_analysis/crop_yield.f')"
   ]
  },
  {
   "cell_type": "markdown",
   "metadata": {},
   "source": [
    "The FORTRAN program is now analyzed by the autoTranslate \n",
    "program analysis pipeline:\n",
    "- Analyze the FORTRAN source\n",
    "- Translate the FORTRAN source analysis into a functionally equivalent Python source file\n",
    "- Generate graphical model representation of "
   ]
  },
  {
   "cell_type": "code",
   "execution_count": 5,
   "metadata": {
    "scrolled": true
   },
   "outputs": [
    {
     "name": "stdout",
     "output_type": "stream",
     "text": [
      "/Users/claytonm/Documents/repository/ml4ai/delphi/delphi/program_analysis/autoTranslate\n",
      "+ java fortran.ofp.FrontEnd --class fortran.ofp.XMLPrinter --verbosity 0 ../../../data/program_analysis/crop_yield.f\n",
      "+ python3.6 scripts/translate.py -f crop_yield.xml -g crop_yield.py\n",
      "+ python3.6 scripts/genPGM.py -f crop_yield.py -p pgm.json -l lambdas.py\n",
      "/Users/claytonm/Documents/repository/ml4ai/delphi/notebooks\n"
     ]
    }
   ],
   "source": [
    "%cd ../delphi/program_analysis/autoTranslate/\n",
    "!./autoTranslate ../../../data/program_analysis/crop_yield.f\n",
    "%cd ../../../notebooks/"
   ]
  },
  {
   "cell_type": "markdown",
   "metadata": {},
   "source": [
    "This generates several files.  First, a functionally equivalent Python source file is generated:"
   ]
  },
  {
   "cell_type": "code",
   "execution_count": null,
   "metadata": {
    "scrolled": true
   },
   "outputs": [
    {
     "data": {
      "text/html": [
       "<style>.pygments .hll { background-color: #ffffcc }\n",
       ".pygments  { background: #f8f8f8; }\n",
       ".pygments .c { color: #408080; font-style: italic } /* Comment */\n",
       ".pygments .err { border: 1px solid #FF0000 } /* Error */\n",
       ".pygments .k { color: #008000; font-weight: bold } /* Keyword */\n",
       ".pygments .o { color: #666666 } /* Operator */\n",
       ".pygments .ch { color: #408080; font-style: italic } /* Comment.Hashbang */\n",
       ".pygments .cm { color: #408080; font-style: italic } /* Comment.Multiline */\n",
       ".pygments .cp { color: #BC7A00 } /* Comment.Preproc */\n",
       ".pygments .cpf { color: #408080; font-style: italic } /* Comment.PreprocFile */\n",
       ".pygments .c1 { color: #408080; font-style: italic } /* Comment.Single */\n",
       ".pygments .cs { color: #408080; font-style: italic } /* Comment.Special */\n",
       ".pygments .gd { color: #A00000 } /* Generic.Deleted */\n",
       ".pygments .ge { font-style: italic } /* Generic.Emph */\n",
       ".pygments .gr { color: #FF0000 } /* Generic.Error */\n",
       ".pygments .gh { color: #000080; font-weight: bold } /* Generic.Heading */\n",
       ".pygments .gi { color: #00A000 } /* Generic.Inserted */\n",
       ".pygments .go { color: #888888 } /* Generic.Output */\n",
       ".pygments .gp { color: #000080; font-weight: bold } /* Generic.Prompt */\n",
       ".pygments .gs { font-weight: bold } /* Generic.Strong */\n",
       ".pygments .gu { color: #800080; font-weight: bold } /* Generic.Subheading */\n",
       ".pygments .gt { color: #0044DD } /* Generic.Traceback */\n",
       ".pygments .kc { color: #008000; font-weight: bold } /* Keyword.Constant */\n",
       ".pygments .kd { color: #008000; font-weight: bold } /* Keyword.Declaration */\n",
       ".pygments .kn { color: #008000; font-weight: bold } /* Keyword.Namespace */\n",
       ".pygments .kp { color: #008000 } /* Keyword.Pseudo */\n",
       ".pygments .kr { color: #008000; font-weight: bold } /* Keyword.Reserved */\n",
       ".pygments .kt { color: #B00040 } /* Keyword.Type */\n",
       ".pygments .m { color: #666666 } /* Literal.Number */\n",
       ".pygments .s { color: #BA2121 } /* Literal.String */\n",
       ".pygments .na { color: #7D9029 } /* Name.Attribute */\n",
       ".pygments .nb { color: #008000 } /* Name.Builtin */\n",
       ".pygments .nc { color: #0000FF; font-weight: bold } /* Name.Class */\n",
       ".pygments .no { color: #880000 } /* Name.Constant */\n",
       ".pygments .nd { color: #AA22FF } /* Name.Decorator */\n",
       ".pygments .ni { color: #999999; font-weight: bold } /* Name.Entity */\n",
       ".pygments .ne { color: #D2413A; font-weight: bold } /* Name.Exception */\n",
       ".pygments .nf { color: #0000FF } /* Name.Function */\n",
       ".pygments .nl { color: #A0A000 } /* Name.Label */\n",
       ".pygments .nn { color: #0000FF; font-weight: bold } /* Name.Namespace */\n",
       ".pygments .nt { color: #008000; font-weight: bold } /* Name.Tag */\n",
       ".pygments .nv { color: #19177C } /* Name.Variable */\n",
       ".pygments .ow { color: #AA22FF; font-weight: bold } /* Operator.Word */\n",
       ".pygments .w { color: #bbbbbb } /* Text.Whitespace */\n",
       ".pygments .mb { color: #666666 } /* Literal.Number.Bin */\n",
       ".pygments .mf { color: #666666 } /* Literal.Number.Float */\n",
       ".pygments .mh { color: #666666 } /* Literal.Number.Hex */\n",
       ".pygments .mi { color: #666666 } /* Literal.Number.Integer */\n",
       ".pygments .mo { color: #666666 } /* Literal.Number.Oct */\n",
       ".pygments .sa { color: #BA2121 } /* Literal.String.Affix */\n",
       ".pygments .sb { color: #BA2121 } /* Literal.String.Backtick */\n",
       ".pygments .sc { color: #BA2121 } /* Literal.String.Char */\n",
       ".pygments .dl { color: #BA2121 } /* Literal.String.Delimiter */\n",
       ".pygments .sd { color: #BA2121; font-style: italic } /* Literal.String.Doc */\n",
       ".pygments .s2 { color: #BA2121 } /* Literal.String.Double */\n",
       ".pygments .se { color: #BB6622; font-weight: bold } /* Literal.String.Escape */\n",
       ".pygments .sh { color: #BA2121 } /* Literal.String.Heredoc */\n",
       ".pygments .si { color: #BB6688; font-weight: bold } /* Literal.String.Interpol */\n",
       ".pygments .sx { color: #008000 } /* Literal.String.Other */\n",
       ".pygments .sr { color: #BB6688 } /* Literal.String.Regex */\n",
       ".pygments .s1 { color: #BA2121 } /* Literal.String.Single */\n",
       ".pygments .ss { color: #19177C } /* Literal.String.Symbol */\n",
       ".pygments .bp { color: #008000 } /* Name.Builtin.Pseudo */\n",
       ".pygments .fm { color: #0000FF } /* Name.Function.Magic */\n",
       ".pygments .vc { color: #19177C } /* Name.Variable.Class */\n",
       ".pygments .vg { color: #19177C } /* Name.Variable.Global */\n",
       ".pygments .vi { color: #19177C } /* Name.Variable.Instance */\n",
       ".pygments .vm { color: #19177C } /* Name.Variable.Magic */\n",
       ".pygments .il { color: #666666 } /* Literal.Number.Integer.Long */</style><div class=\"pygments\"><pre><span></span><span class=\"lineno\"> 1 </span><span class=\"kn\">from</span> <span class=\"nn\">typing</span> <span class=\"kn\">import</span> <span class=\"n\">List</span>\n",
       "<span class=\"lineno\"> 2 </span>\n",
       "<span class=\"lineno\"> 3 </span><span class=\"k\">def</span> <span class=\"nf\">UPDATE_EST</span><span class=\"p\">(</span><span class=\"n\">RAIN</span><span class=\"p\">:</span> <span class=\"n\">List</span><span class=\"p\">[</span><span class=\"nb\">float</span><span class=\"p\">],</span> <span class=\"n\">TOTAL_RAIN</span><span class=\"p\">:</span> <span class=\"n\">List</span><span class=\"p\">[</span><span class=\"nb\">float</span><span class=\"p\">],</span> <span class=\"n\">YIELD_EST</span><span class=\"p\">:</span> <span class=\"n\">List</span><span class=\"p\">[</span><span class=\"nb\">float</span><span class=\"p\">]):</span>\n",
       "<span class=\"lineno\"> 4 </span>    <span class=\"n\">TOTAL_RAIN</span><span class=\"p\">[</span><span class=\"mi\">0</span><span class=\"p\">]</span> <span class=\"o\">=</span> <span class=\"p\">(</span><span class=\"n\">TOTAL_RAIN</span><span class=\"p\">[</span><span class=\"mi\">0</span><span class=\"p\">]</span> <span class=\"o\">+</span> <span class=\"n\">RAIN</span><span class=\"p\">[</span><span class=\"mi\">0</span><span class=\"p\">])</span>\n",
       "<span class=\"lineno\"> 5 </span>    <span class=\"k\">if</span> <span class=\"p\">(</span><span class=\"n\">TOTAL_RAIN</span><span class=\"p\">[</span><span class=\"mi\">0</span><span class=\"p\">]</span> <span class=\"o\">&lt;=</span> <span class=\"mi\">40</span><span class=\"p\">):</span>\n",
       "<span class=\"lineno\"> 6 </span>        <span class=\"n\">YIELD_EST</span><span class=\"p\">[</span><span class=\"mi\">0</span><span class=\"p\">]</span> <span class=\"o\">=</span> <span class=\"p\">(</span><span class=\"o\">-</span><span class=\"p\">((((</span><span class=\"n\">TOTAL_RAIN</span><span class=\"p\">[</span><span class=\"mi\">0</span><span class=\"p\">]</span> <span class=\"o\">-</span> <span class=\"mi\">40</span><span class=\"p\">)</span> <span class=\"o\">**</span> <span class=\"mi\">2</span><span class=\"p\">)</span> <span class=\"o\">/</span> <span class=\"mi\">16</span><span class=\"p\">))</span> <span class=\"o\">+</span> <span class=\"mi\">100</span><span class=\"p\">)</span>\n",
       "<span class=\"lineno\"> 7 </span>    <span class=\"k\">else</span><span class=\"p\">:</span>\n",
       "<span class=\"lineno\"> 8 </span>        <span class=\"n\">YIELD_EST</span><span class=\"p\">[</span><span class=\"mi\">0</span><span class=\"p\">]</span> <span class=\"o\">=</span> <span class=\"p\">(</span><span class=\"o\">-</span><span class=\"p\">(</span><span class=\"n\">TOTAL_RAIN</span><span class=\"p\">[</span><span class=\"mi\">0</span><span class=\"p\">])</span> <span class=\"o\">+</span> <span class=\"mi\">140</span><span class=\"p\">)</span>\n",
       "<span class=\"lineno\"> 9 </span>\n",
       "<span class=\"lineno\">10 </span><span class=\"k\">def</span> <span class=\"nf\">CROP_YIELD</span><span class=\"p\">():</span>\n",
       "<span class=\"lineno\">11 </span>    <span class=\"n\">DAY</span><span class=\"p\">:</span> <span class=\"n\">List</span><span class=\"p\">[</span><span class=\"nb\">int</span><span class=\"p\">]</span> <span class=\"o\">=</span> <span class=\"p\">[</span><span class=\"mi\">0</span><span class=\"p\">]</span>\n",
       "<span class=\"lineno\">12 </span>    <span class=\"n\">RAIN</span><span class=\"p\">:</span> <span class=\"n\">List</span><span class=\"p\">[</span><span class=\"nb\">float</span><span class=\"p\">]</span> <span class=\"o\">=</span> <span class=\"p\">[</span><span class=\"mf\">0.0</span><span class=\"p\">]</span>\n",
       "<span class=\"lineno\">13 </span>    <span class=\"n\">YIELD_EST</span><span class=\"p\">:</span> <span class=\"n\">List</span><span class=\"p\">[</span><span class=\"nb\">float</span><span class=\"p\">]</span> <span class=\"o\">=</span> <span class=\"p\">[</span><span class=\"mf\">0.0</span><span class=\"p\">]</span>\n",
       "<span class=\"lineno\">14 </span>    <span class=\"n\">TOTAL_RAIN</span><span class=\"p\">:</span> <span class=\"n\">List</span><span class=\"p\">[</span><span class=\"nb\">float</span><span class=\"p\">]</span> <span class=\"o\">=</span> <span class=\"p\">[</span><span class=\"mf\">0.0</span><span class=\"p\">]</span>\n",
       "<span class=\"lineno\">15 </span>    <span class=\"n\">MAX_RAIN</span><span class=\"p\">:</span> <span class=\"n\">List</span><span class=\"p\">[</span><span class=\"nb\">float</span><span class=\"p\">]</span> <span class=\"o\">=</span> <span class=\"p\">[</span><span class=\"mf\">0.0</span><span class=\"p\">]</span>\n",
       "<span class=\"lineno\">16 </span>    <span class=\"n\">CONSISTENCY</span><span class=\"p\">:</span> <span class=\"n\">List</span><span class=\"p\">[</span><span class=\"nb\">float</span><span class=\"p\">]</span> <span class=\"o\">=</span> <span class=\"p\">[</span><span class=\"mf\">0.0</span><span class=\"p\">]</span>\n",
       "<span class=\"lineno\">17 </span>    <span class=\"n\">ABSORBTION</span><span class=\"p\">:</span> <span class=\"n\">List</span><span class=\"p\">[</span><span class=\"nb\">float</span><span class=\"p\">]</span> <span class=\"o\">=</span> <span class=\"p\">[</span><span class=\"mf\">0.0</span><span class=\"p\">]</span>\n",
       "<span class=\"lineno\">18 </span>    <span class=\"n\">MAX_RAIN</span><span class=\"p\">[</span><span class=\"mi\">0</span><span class=\"p\">]</span> <span class=\"o\">=</span> <span class=\"mf\">4.0</span>\n",
       "<span class=\"lineno\">19 </span>    <span class=\"n\">CONSISTENCY</span><span class=\"p\">[</span><span class=\"mi\">0</span><span class=\"p\">]</span> <span class=\"o\">=</span> <span class=\"mf\">64.0</span>\n",
       "<span class=\"lineno\">20 </span>    <span class=\"n\">ABSORBTION</span><span class=\"p\">[</span><span class=\"mi\">0</span><span class=\"p\">]</span> <span class=\"o\">=</span> <span class=\"mf\">0.6</span>\n",
       "<span class=\"lineno\">21 </span>    <span class=\"n\">YIELD_EST</span><span class=\"p\">[</span><span class=\"mi\">0</span><span class=\"p\">]</span> <span class=\"o\">=</span> <span class=\"mi\">0</span>\n",
       "<span class=\"lineno\">22 </span>    <span class=\"n\">TOTAL_RAIN</span><span class=\"p\">[</span><span class=\"mi\">0</span><span class=\"p\">]</span> <span class=\"o\">=</span> <span class=\"mi\">0</span>\n",
       "<span class=\"lineno\">23 </span>    <span class=\"k\">for</span> <span class=\"n\">DAY</span><span class=\"p\">[</span><span class=\"mi\">0</span><span class=\"p\">]</span> <span class=\"ow\">in</span> <span class=\"nb\">range</span><span class=\"p\">(</span><span class=\"mi\">1</span><span class=\"p\">,</span> <span class=\"mi\">31</span><span class=\"o\">+</span><span class=\"mi\">1</span><span class=\"p\">):</span>\n",
       "<span class=\"lineno\">24 </span>        <span class=\"n\">RAIN</span><span class=\"p\">[</span><span class=\"mi\">0</span><span class=\"p\">]</span> <span class=\"o\">=</span> <span class=\"p\">((</span><span class=\"o\">-</span><span class=\"p\">((((</span><span class=\"n\">DAY</span><span class=\"p\">[</span><span class=\"mi\">0</span><span class=\"p\">]</span> <span class=\"o\">-</span> <span class=\"mi\">16</span><span class=\"p\">)</span> <span class=\"o\">**</span> <span class=\"mi\">2</span><span class=\"p\">)</span> <span class=\"o\">/</span> <span class=\"n\">CONSISTENCY</span><span class=\"p\">[</span><span class=\"mi\">0</span><span class=\"p\">]))</span> <span class=\"o\">+</span> <span class=\"n\">MAX_RAIN</span><span class=\"p\">[</span><span class=\"mi\">0</span><span class=\"p\">])</span> <span class=\"o\">*</span> <span class=\"n\">ABSORBTION</span><span class=\"p\">[</span><span class=\"mi\">0</span><span class=\"p\">])</span>\n",
       "<span class=\"lineno\">25 </span>        <span class=\"n\">UPDATE_EST</span><span class=\"p\">(</span><span class=\"n\">RAIN</span><span class=\"p\">,</span> <span class=\"n\">TOTAL_RAIN</span><span class=\"p\">,</span> <span class=\"n\">YIELD_EST</span><span class=\"p\">)</span>\n",
       "<span class=\"lineno\">26 </span>        <span class=\"k\">print</span><span class=\"p\">(</span><span class=\"s2\">&quot;Day &quot;</span><span class=\"p\">,</span> <span class=\"n\">DAY</span><span class=\"p\">,</span> <span class=\"s2\">&quot; Estimate: &quot;</span><span class=\"p\">,</span> <span class=\"n\">YIELD_EST</span><span class=\"p\">)</span>\n",
       "<span class=\"lineno\">27 </span>    <span class=\"k\">print</span><span class=\"p\">(</span><span class=\"s2\">&quot;Crop Yield(%): &quot;</span><span class=\"p\">,</span> <span class=\"n\">YIELD_EST</span><span class=\"p\">)</span>\n",
       "<span class=\"lineno\">28 </span>\n",
       "<span class=\"lineno\">29 </span><span class=\"n\">CROP_YIELD</span><span class=\"p\">()</span>\n",
       "</pre></div>\n"
      ],
      "text/plain": [
       "<IPython.core.display.HTML object>"
      ]
     },
     "execution_count": 6,
     "metadata": {},
     "output_type": "execute_result"
    }
   ],
   "source": [
    "jt.display('../delphi/program_analysis/autoTranslate/crop_yield.py')"
   ]
  },
  {
   "cell_type": "markdown",
   "metadata": {},
   "source": [
    "The Python source is then parsed into a JSON representation of the \n",
    "statements and functions contained in the program. "
   ]
  },
  {
   "cell_type": "code",
   "execution_count": null,
   "metadata": {
    "scrolled": true
   },
   "outputs": [],
   "source": [
    "dbn_json = '../delphi/program_analysis/autoTranslate/pgm.json'\n",
    "jt.display(dbn_json)"
   ]
  },
  {
   "cell_type": "markdown",
   "metadata": {},
   "source": [
    "Delphi takes this JSON description, discovers all scopes and assignment \n",
    "statements in it, and builds a graph that shows how \n",
    "information flows through the program during runtime.\n",
    "\n",
    "## Program initialization\n",
    "\n",
    "We construct a nested scope tree, and display the graph representation from \n",
    "the nested scope tree."
   ]
  },
  {
   "cell_type": "markdown",
   "metadata": {},
   "source": [
    "## Constructing the scope tree\n",
    "\n",
    "The scope tree is a rooted collection of nested `Scope` objects.\n",
    "We currently have two different scopes that our program identifies:\n",
    "\n",
    "- A `LoopScope` meant to track loops found in the initial program \n",
    "- A `FuncScope` meant to track functions found in the initial program.\n",
    "\n",
    "The `scope_tree` defined below will be a `Scope` object that has other `Scope` obejects as its children."
   ]
  },
  {
   "cell_type": "code",
   "execution_count": null,
   "metadata": {},
   "outputs": [],
   "source": [
    "with open(dbn_json, 'r') as f:\n",
    "    d = json.load(f)\n",
    "    \n",
    "from delphi.program_analysis.scopes import scope_tree_from_json\n",
    "scope_tree = scope_tree_from_json(d)"
   ]
  },
  {
   "cell_type": "markdown",
   "metadata": {},
   "source": [
    "## Viewing the DBN\n",
    "\n",
    "\n",
    "The final step is to construct a DBN from `scope_tree`. Below we create a digraph to show the DBN as a flow of information through the program at runtime. Scopes are nested and the breadth of each scope is shown with a colored bounding box. Function scopes are colored in green while loop scopes are shown in blue. Each scope is labeled with the scope specific name as found in the JSON specification. Variables from the program are shown as ellipses contained in their appropriate scopes. Variables are named with the name of the variable in the program and the name of the scope in which the variable was first defined. Actions, such as variable assignment or conditional evaluation, are shown as red rectangles and are labeled similarly to variables.\n",
    "\n",
    "This graph has a linked structure that shows how variables from one scope populate for use into child scopes. This allows us to see the entire data flow profile of the initial program at runtime."
   ]
  },
  {
   "cell_type": "code",
   "execution_count": null,
   "metadata": {},
   "outputs": [],
   "source": [
    "from delphi.program_analysis.parse_dbn_json import setup_directed_graph\n",
    "graph = setup_directed_graph()\n",
    "scope_tree.build_containment_graph(graph)\n",
    "Image(graph.draw(format='png', prog='dot'), retina=True)"
   ]
  }
 ],
 "metadata": {
  "hide_input": false,
  "kernelspec": {
   "display_name": "Python 3",
   "language": "python",
   "name": "python3"
  },
  "language_info": {
   "codemirror_mode": {
    "name": "ipython",
    "version": 3
   },
   "file_extension": ".py",
   "mimetype": "text/x-python",
   "name": "python",
   "nbconvert_exporter": "python",
   "pygments_lexer": "ipython3",
   "version": "3.6.5"
  }
 },
 "nbformat": 4,
 "nbformat_minor": 2
}

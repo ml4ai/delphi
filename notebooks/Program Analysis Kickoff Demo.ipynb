{
 "cells": [
  {
   "cell_type": "markdown",
   "metadata": {},
   "source": [
    "# Program Analysis Seedling Kickoff Demo\n",
    "\n",
    "*University of Arizona*\n",
    "\n",
    "*July 26, 2018*\n",
    "\n",
    "\n",
    "In this demo we will show how a dynamic Bayes network (DBN) can be constructed from the source code for a FORTRAN program. This notebook has been tested with the version of Delphi corresponding to the commit hash below."
   ]
  },
  {
   "cell_type": "code",
   "execution_count": null,
   "metadata": {},
   "outputs": [],
   "source": [
    "!git rev-parse HEAD"
   ]
  },
  {
   "cell_type": "markdown",
   "metadata": {},
   "source": [
    "Some preliminaries:"
   ]
  },
  {
   "cell_type": "code",
   "execution_count": null,
   "metadata": {
    "scrolled": false
   },
   "outputs": [],
   "source": [
    "%load_ext autoreload\n",
    "%autoreload 2\n",
    "import json\n",
    "import delphi.program_analysis as pa\n",
    "from IPython.core.display import Image\n",
    "import delphi.jupyter_tools as jt\n",
    "data_dir = '../data/program_analysis'"
   ]
  },
  {
   "cell_type": "markdown",
   "metadata": {},
   "source": [
    "We start with the FORTRAN program, `crop_yield.f` shown below."
   ]
  },
  {
   "cell_type": "code",
   "execution_count": null,
   "metadata": {
    "scrolled": true
   },
   "outputs": [],
   "source": [
    "jt.display(f'{data_dir}/crop_yield.f')"
   ]
  },
  {
   "cell_type": "markdown",
   "metadata": {},
   "source": [
    "The FORTRAN program is translated into an equivalent program in \n",
    "Python:"
   ]
  },
  {
   "cell_type": "code",
   "execution_count": null,
   "metadata": {
    "scrolled": true
   },
   "outputs": [],
   "source": [
    "jt.display(f'{data_dir}/pa_crop_yield_v0.2/crop_yield_f2p.py')"
   ]
  },
  {
   "cell_type": "markdown",
   "metadata": {},
   "source": [
    "Which is then parsed into a JSON representation of the \n",
    "statements and functions contained in the program. "
   ]
  },
  {
   "cell_type": "code",
   "execution_count": null,
   "metadata": {
    "scrolled": true
   },
   "outputs": [],
   "source": [
    "dbn_json = f'{data_dir}/pa_crop_yield_v0.2/crop_yield_DBN.json'\n",
    "jt.display(dbn_json)"
   ]
  },
  {
   "cell_type": "markdown",
   "metadata": {},
   "source": [
    "Delphi takes this JSON description, discovers all scopes and assignment \n",
    "statements in it, and builds a graph that shows how \n",
    "information flows through the program during runtime.\n",
    "\n",
    "## Program initialization\n",
    "\n",
    "We construct a nested scope tree, and display the graph representation from \n",
    "the nested scope tree."
   ]
  },
  {
   "cell_type": "markdown",
   "metadata": {},
   "source": [
    "## Constructing the scope tree\n",
    "\n",
    "The scope tree is a rooted collection of nested `ScopeNode` objects.\n",
    "We currently have two different scopes that our program identifies:\n",
    "\n",
    "- A `LoopScopeNode` meant to track loops found in the initial program \n",
    "- A `FuncScopeNode` meant to track functions found in the initial program.\n",
    "\n",
    "The `scope_tree` defined below will be a `ScopeNode` object that has other `ScopeNode` obejects as its children."
   ]
  },
  {
   "cell_type": "code",
   "execution_count": null,
   "metadata": {},
   "outputs": [],
   "source": [
    "with open(dbn_json, 'r') as f:\n",
    "    d = json.load(f)\n",
    "    \n",
    "from delphi.program_analysis.scopes import scope_tree_from_json\n",
    "scope_tree = scope_tree_from_json(d)"
   ]
  },
  {
   "cell_type": "markdown",
   "metadata": {},
   "source": [
    "## Viewing the DBN\n",
    "\n",
    "\n",
    "The final step is to construct a DBN from `scope_tree`. Below we create a digraph to show the DBN as a flow of information through the program at runtime. Scopes are nested and the breadth of each scope is shown with a colored bounding box. Function scopes are colored in green while loop scopes are shown in blue. Each scope is labeled with the scope specific name as found in the JSON specification. Variables from the program are shown as ellipses contained in their appropriate scopes. Variables are named with the name of the variable in the program and the name of the scope in which the variable was first defined. Actions, such as variable assignment or conditional evaluation, are shown as red rectangles and are labeled similarly to variables.\n",
    "\n",
    "This graph has a linked structure that shows how variables from one scope populate for use into child scopes. This allows us to see the entire data flow profile of the initial program at runtime."
   ]
  },
  {
   "cell_type": "code",
   "execution_count": null,
   "metadata": {},
   "outputs": [],
   "source": [
    "from delphi.program_analysis.parse_dbn_json import setup_directed_graph\n",
    "graph = setup_directed_graph()\n",
    "scope_tree.build_containment_graph(graph)\n",
    "Image(graph.draw(format='png', prog='dot'), retina=True)"
   ]
  }
 ],
 "metadata": {
  "hide_input": false,
  "kernelspec": {
   "display_name": "Python 3",
   "language": "python",
   "name": "python3"
  },
  "language_info": {
   "codemirror_mode": {
    "name": "ipython",
    "version": 3
   },
   "file_extension": ".py",
   "mimetype": "text/x-python",
   "name": "python",
   "nbconvert_exporter": "python",
   "pygments_lexer": "ipython3",
   "version": "3.6.5"
  }
 },
 "nbformat": 4,
 "nbformat_minor": 2
}

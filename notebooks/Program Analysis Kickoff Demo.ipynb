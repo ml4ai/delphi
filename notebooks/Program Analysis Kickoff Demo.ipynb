{
 "cells": [
  {
   "cell_type": "markdown",
   "metadata": {},
   "source": [
    "# Program Analysis Seedling Kickoff Demo\n",
    "\n",
    "*University of Arizona*\n",
    "\n",
    "*July 26, 2018*\n",
    "\n",
    "\n",
    "In this demo we will show how a dynamic Bayes network (DBN) can be constructed from the source code for a FORTRAN program. This notebook has been tested with the version of Delphi corresponding to the commit hash shown below."
   ]
  },
  {
   "cell_type": "code",
   "execution_count": null,
   "metadata": {},
   "outputs": [],
   "source": [
    "!git rev-parse HEAD"
   ]
  },
  {
   "cell_type": "markdown",
   "metadata": {},
   "source": [
    "Some preliminaries:"
   ]
  },
  {
   "cell_type": "code",
   "execution_count": null,
   "metadata": {},
   "outputs": [],
   "source": [
    "%load_ext autoreload\n",
    "%autoreload 2\n",
    "import sys\n",
    "import json\n",
    "from importlib import import_module\n",
    "from IPython.core.display import Image\n",
    "import delphi.jupyter_tools as jt\n",
    "from delphi.program_analysis.scopes import Scope\n",
    "from delphi.program_analysis.ProgramAnalysisGraph import (ProgramAnalysisCAG,\n",
    "                                                          initialize, update)\n",
    "\n",
    "import matplotlib.pyplot as plt\n",
    "import seaborn as sns\n",
    "sns.set_style('darkgrid')\n",
    "from IPython.display import set_matplotlib_formats\n",
    "set_matplotlib_formats('retina')\n",
    "import numpy as np"
   ]
  },
  {
   "cell_type": "markdown",
   "metadata": {},
   "source": [
    "We start with the FORTRAN program, `crop_yield.f` shown below."
   ]
  },
  {
   "cell_type": "code",
   "execution_count": null,
   "metadata": {},
   "outputs": [],
   "source": [
    "jt.display(f'../data/program_analysis/crop_yield.f')"
   ]
  },
  {
   "cell_type": "markdown",
   "metadata": {},
   "source": [
    "## Analyze the FORTRAN source code\n",
    "\n",
    "The FORTRAN program is now analyzed by the autoTranslate \n",
    "program analysis pipeline:\n",
    "- Analyze the FORTRAN source to produce an XML representation of the abstract\n",
    "    syntax tree (AST)\n",
    "- Translate the AST into a functionally equivalent Python source file\n",
    "- Extract component assignment functions (lambda functions) and variable functional relationships within scope (DBN-JSON)."
   ]
  },
  {
   "cell_type": "code",
   "execution_count": null,
   "metadata": {},
   "outputs": [],
   "source": [
    "%cd ../delphi/program_analysis/autoTranslate/\n",
    "!./autoTranslate ../../../data/program_analysis/crop_yield.f\n",
    "%cd ../../../notebooks/"
   ]
  },
  {
   "cell_type": "markdown",
   "metadata": {},
   "source": [
    "This generates several files.  First, program analysis autoTranslate analyses the FORTRAN code to extract the AST (abstract syntax tree), represented in xml:"
   ]
  },
  {
   "cell_type": "code",
   "execution_count": null,
   "metadata": {},
   "outputs": [],
   "source": [
    "jt.display('../delphi/program_analysis/autoTranslate/crop_yield.xml')"
   ]
  },
  {
   "cell_type": "markdown",
   "metadata": {},
   "source": [
    "A functionally equivalent Python source file is generated (preserving semantics of the FORTRAN source, such as call by reference):"
   ]
  },
  {
   "cell_type": "code",
   "execution_count": null,
   "metadata": {},
   "outputs": [],
   "source": [
    "jt.display('../delphi/program_analysis/autoTranslate/crop_yield.py')"
   ]
  },
  {
   "cell_type": "markdown",
   "metadata": {},
   "source": [
    "Variable assignment functions are extracted into an interface of modular executable functions, or 'lambdas'."
   ]
  },
  {
   "cell_type": "code",
   "execution_count": null,
   "metadata": {},
   "outputs": [],
   "source": [
    "jt.display('../delphi/program_analysis/autoTranslate/lambdas.py')"
   ]
  },
  {
   "cell_type": "markdown",
   "metadata": {},
   "source": [
    "The Python source is then parsed into a JSON representation of the \n",
    "statements and functions contained in the program. "
   ]
  },
  {
   "cell_type": "code",
   "execution_count": null,
   "metadata": {},
   "outputs": [],
   "source": [
    "dbn_json = '../delphi/program_analysis/autoTranslate/pgm.json'\n",
    "jt.display(dbn_json)"
   ]
  },
  {
   "cell_type": "markdown",
   "metadata": {},
   "source": [
    "## Assemble the DBN\n",
    "\n",
    "Delphi takes this JSON description, discovers all scopes and assignment \n",
    "statements in it, and builds a graph that shows how \n",
    "information flows through the program during runtime.\n",
    "\n",
    "### Constructing the scope tree\n",
    "\n",
    "The scope tree is a rooted collection of nested `Scope` objects.\n",
    "We currently have two different types of scopes that our program identifies:\n",
    "\n",
    "- A `LoopScope` meant to track loops found in the initial program \n",
    "- A `ContainerScope` meant to track functions found in the initial program.\n",
    "\n",
    "The `scope_tree` defined below will be a `Scope` object that has other `Scope` objects as its children.\n",
    "### Viewing the DBN\n",
    "\n",
    "The final step is to construct a DBN from `scope_tree`. \n",
    "Below we create a digraph to show the DBN as a flow of information through \n",
    "the program at runtime. Scopes are nested and the breadth of each scope \n",
    "is shown with a colored bounding box. Function scopes are colored in green \n",
    "while loop scopes are shown in blue. Each scope is labeled with the scope \n",
    "specific name as found in the JSON specification. Variables from the program \n",
    "are shown as ellipses contained in their appropriate scopes. Variables are \n",
    " with the name of the variable in the program and the name of the \n",
    "scope in which the variable was first defined. Actions, such as variable \n",
    "assignment or conditional evaluation, are shown as black rectangles and are \n",
    "labeled similarly to variables.\n",
    "\n",
    "This graph has a linked structure that shows how variables from one scope \n",
    "populate for use into child scopes. This allows us to see the entire data \n",
    "flow profile of the initial program at runtime."
   ]
  },
  {
   "cell_type": "code",
   "execution_count": null,
   "metadata": {},
   "outputs": [],
   "source": [
    "root = Scope.from_json('../delphi/program_analysis/autoTranslate/pgm.json')\n",
    "A = root.to_agraph()\n",
    "Image(A.draw(format='png', prog='dot'), retina=True)"
   ]
  },
  {
   "cell_type": "markdown",
   "metadata": {},
   "source": [
    "## Executing the DBN\n",
    "\n",
    "With the DBN now assembled and represented within Delphi, we can execute the DBN, displayed here from a CAG view of the DBN with variable states updating as the loop is unfolded."
   ]
  },
  {
   "cell_type": "code",
   "execution_count": null,
   "metadata": {},
   "outputs": [],
   "source": [
    "sys.path.append('../delphi/program_analysis/autoTranslate')\n",
    "import lambdas\n",
    "G = ProgramAnalysisCAG.from_agraph(A, lambdas)"
   ]
  },
  {
   "cell_type": "markdown",
   "metadata": {},
   "source": [
    "We first initialize the variables whose assignment doesn't depend on \n",
    "other variables."
   ]
  },
  {
   "cell_type": "code",
   "execution_count": null,
   "metadata": {},
   "outputs": [],
   "source": [
    "initialize(G)\n",
    "G.visualize(show_values = True)"
   ]
  },
  {
   "cell_type": "markdown",
   "metadata": {},
   "source": [
    "We then update the CAG, visiting each node and updating it\n",
    "based on the function associated with that node and the predecessors of\n",
    "the node. This update is performed recursively - if the update function requires\n",
    "the value of an predecessor node that has not been computed yet, then that\n",
    "predecessor node's update function is called in turn, and so on."
   ]
  },
  {
   "cell_type": "code",
   "execution_count": null,
   "metadata": {},
   "outputs": [],
   "source": [
    "update(G)\n",
    "G.visualize(show_values = True)"
   ]
  },
  {
   "cell_type": "markdown",
   "metadata": {},
   "source": [
    "Upon performing another update, we can see the values of the nodes changing."
   ]
  },
  {
   "cell_type": "code",
   "execution_count": null,
   "metadata": {},
   "outputs": [],
   "source": [
    "update(G)\n",
    "G.visualize(show_values = True)"
   ]
  },
  {
   "cell_type": "markdown",
   "metadata": {},
   "source": [
    "This reproduces the output of the FORTRAN code, albeit with the `DAY` variable\n",
    "offset by +2 as an artefact of our indexing (future work!)"
   ]
  },
  {
   "cell_type": "markdown",
   "metadata": {},
   "source": [
    "In the plots below we demonstrate some of the potential for sensitivity\n",
    "analysis using this framework. In the input cell below we define a function\n",
    "for plotting three variables of interest: `RAIN`, `TOTAL_RAIN`, and `YIELD_EST`,\n",
    "as a function of `DAY`. \n",
    "\n",
    "In addition, we provide an option to go 'non-deterministic', i.e. we say that\n",
    "instead of `MAX_RAIN` being constant at 4, we assert `MAX_RAIN`$\\sim \\mathcal{N}(4,1)$."
   ]
  },
  {
   "cell_type": "code",
   "execution_count": null,
   "metadata": {},
   "outputs": [],
   "source": [
    "for n in G.nodes(data=True):\n",
    "    print(n)"
   ]
  },
  {
   "cell_type": "code",
   "execution_count": null,
   "metadata": {},
   "outputs": [],
   "source": [
    "def make_plots(n_samples, deterministic = True):\n",
    "    variables = ('RAIN', 'TOTAL_RAIN', 'YIELD_EST')\n",
    "    vals = {k:[] for k in variables}\n",
    "    days = {k:[] for k in variables}\n",
    "    palette = sns.color_palette()\n",
    "    colors = {k:palette[i] for i, k in enumerate(vals)}\n",
    "    fig, axes = plt.subplots(1,len(vals), figsize=(12, 3))\n",
    "    ax = {k:axes[i] for i, k in enumerate(vals)}\n",
    "    \n",
    "    for _ in range(n_samples):\n",
    "        G = ProgramAnalysisCAG.from_agraph(A, lambdas)\n",
    "        if not deterministic:\n",
    "            G.nodes['MAX_RAIN']['init_fn'] = lambda: np.random.normal(4, 1)             \n",
    "        initialize(G)\n",
    "        for i in range(1,31):\n",
    "            update(G)\n",
    "            for k in vals:\n",
    "                vals[k].append(G.nodes[k]['value'])\n",
    "                days[k].append(G.nodes['DAY']['value']-2)\n",
    "\n",
    "    for k in vals:\n",
    "        sns.lineplot(days[k], vals[k], ax = ax[k], label=k, color=colors[k])\n",
    "        ax[k].set_xlabel('DAY')\n",
    "        ax[k].set_ylabel(k)\n",
    "\n",
    "    plt.tight_layout()\n"
   ]
  },
  {
   "cell_type": "markdown",
   "metadata": {},
   "source": [
    "First, we show the results of running the program deterministically."
   ]
  },
  {
   "cell_type": "code",
   "execution_count": null,
   "metadata": {},
   "outputs": [],
   "source": [
    "make_plots(1)"
   ]
  },
  {
   "cell_type": "markdown",
   "metadata": {},
   "source": [
    "Note the inflection point of `YIELD_EST` that occurs when `TOTAL_RAIN` = 40: this is the basis of the conditional expression in the original FORTRAN code.\n",
    "\n",
    "If we turn off the deterministic behaviour, we get the following results with fluctuations representing random sampling noise:"
   ]
  },
  {
   "cell_type": "code",
   "execution_count": null,
   "metadata": {},
   "outputs": [],
   "source": [
    "make_plots(1, deterministic=False)"
   ]
  },
  {
   "cell_type": "markdown",
   "metadata": {},
   "source": [
    "Once we draw more than one sample, we can estimate the uncertainty in the outputs\n",
    "caused by the stochasticity in the input `MAX_RAIN`."
   ]
  },
  {
   "cell_type": "code",
   "execution_count": null,
   "metadata": {},
   "outputs": [],
   "source": [
    "make_plots(10, deterministic=False)"
   ]
  },
  {
   "cell_type": "markdown",
   "metadata": {},
   "source": [
    "## Summary\n",
    "\n",
    "With Delphi, we can go from FORTRAN source code to a dynamic Bayes net. The \n",
    "internal representation of Delphi has been made flexible enough to accommodate\n",
    "custom update functions which can come a variety of sources:\n",
    "\n",
    "- Domain experts\n",
    "- Natural language processing and gradable adjective quantifications\n",
    "- Program analysis."
   ]
  }
 ],
 "metadata": {
  "hide_input": false,
  "kernelspec": {
   "display_name": "Python 3",
   "language": "python",
   "name": "python3"
  },
  "language_info": {
   "codemirror_mode": {
    "name": "ipython",
    "version": 3
   },
   "file_extension": ".py",
   "mimetype": "text/x-python",
   "name": "python",
   "nbconvert_exporter": "python",
   "pygments_lexer": "ipython3",
   "version": "3.6.5"
  }
 },
 "nbformat": 4,
 "nbformat_minor": 2
}

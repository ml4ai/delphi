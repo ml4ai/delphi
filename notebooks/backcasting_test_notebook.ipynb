{
 "cells": [
  {
   "cell_type": "markdown",
   "metadata": {},
   "source": [
    "# Backcasting Demo Notebook\n",
    "\n",
    "_Loren Champlin_\n",
    "\n",
    "Adapted from _Adarsh Pyarelal_'s WM 12 Month Evaluation Notebook \n",
    "\n",
    "As always, we begin with imports, and print out the commit hash for a rendered\n",
    "version of the notebook."
   ]
  },
  {
   "cell_type": "code",
   "execution_count": null,
   "metadata": {},
   "outputs": [],
   "source": [
    "%load_ext autoreload\n",
    "%autoreload 2\n",
    "%matplotlib inline\n",
    "import pickle\n",
    "from IPython.display import set_matplotlib_formats\n",
    "set_matplotlib_formats('retina')\n",
    "from delphi.visualization import visualize\n",
    "import delphi.jupyter_tools as jt\n",
    "import numpy as np\n",
    "import pandas as pd\n",
    "from scipy import stats\n",
    "#Comment out the next line if you do not have the delphi.db file. \n",
    "from delphi.db import engine\n",
    "jt.print_commit_hash_message()\n",
    "import random as rm\n",
    "import delphi.evaluation as EN\n",
    "import delphi.AnalysisGraph as AG\n",
    "import warnings\n",
    "#warnings.filterwarnings(\"ignore\")\n",
    "import logging\n",
    "logging.getLogger().setLevel(logging.CRITICAL)\n",
    "from indra.statements import (\n",
    "    Concept,\n",
    "    Influence,\n",
    "    Evidence,\n",
    "    Event,\n",
    "    QualitativeDelta,\n",
    ")\n",
    "from delphi.utils.indra import *\n",
    "from delphi.utils.shell import cd\n",
    "import seaborn as sns\n",
    "import matplotlib.pyplot as plt\n",
    "from delphi.utils.fp import flatMap, take, ltake, lmap, pairwise, iterate, exists"
   ]
  },
  {
   "cell_type": "markdown",
   "metadata": {},
   "source": [
    "Here I will set random seeds"
   ]
  },
  {
   "cell_type": "code",
   "execution_count": null,
   "metadata": {},
   "outputs": [],
   "source": [
    "np.random.seed(87)\n",
    "rm.seed(87)"
   ]
  },
  {
   "cell_type": "code",
   "execution_count": null,
   "metadata": {},
   "outputs": [],
   "source": [
    "df = pd.read_csv(\"../scripts/data/raw/migration/Initial annotation exercise for migration use case - ReachJongleiJan - dep var.tsv\",sep='\\t')\n",
    "df = df[~np.isnan(df[\"Value count\"])]\n",
    "df.drop(df.columns[[0,1,2,4,5,8,9,12,13,16,19,20]],axis=1, inplace=True)\n",
    "\n",
    "d = {\"January\": 1.0, \"February\": 2.0, \"March\": 3.0, \"April\": 4.0, \"May\": 5.0, \"June\": 6.0, \"July\": 7.0, \"August\": 8.0, \"September\": 9.0, \"October\": 10.0, \"November\": 11.0, \"December\": 12.0}\n",
    "\n",
    "df.replace(d, inplace=True)\n",
    "\n",
    "df[\"Start year\"].fillna(value=-1, inplace=True, downcast=\"infer\")\n",
    "df[\"Start month\"].fillna(value=0, inplace=True, downcast=\"infer\")\n",
    "df[\"End year\"].fillna(value=-1, inplace=True, downcast=\"infer\")\n",
    "df[\"End month\"].fillna(value=0, inplace=True, downcast=\"infer\")\n",
    "\n",
    "c = {1: 31, 2: 28, 3: 31, 4: 30, 5: 31, 6: 30, 7: 31, 8: 31, 9: 30, 10: 31, 11: 30, 12: 31}\n",
    "\n",
    "for i in range(1,13):\n",
    "    df.loc[(df[\"Value unit (Amount, Rate, Percentage)\"] == \"Daily\") & (df[\"End month\"] == i),\"Value count\"] = df.loc[(df[\"Value unit (Amount, Rate, Percentage)\"] == \"Daily\") & (df[\"End month\"] == i),\"Value count\"]*c[i]\n",
    "    \n",
    "df['Unit'] = 'people'\n",
    "df.reset_index(drop=True,inplace=True)\n",
    "\n",
    "df['Variable'] = df['Event trigger text']\n",
    "\n",
    "df.loc[0:1,\"Variable\"] = \"Internally Displaced People\"\n",
    "\n",
    "df.loc[df[\"Event trigger text\"] == \"leaving\", \"Variable\"] = \"Outgoing Migrants\"\n",
    "df.loc[df[\"Event trigger text\"] == \"returning\", \"Variable\"] = \"Incoming Migrants\"\n",
    "\n",
    "df[\"Source country\"] = \"South Sudan\"\n",
    "df[\"Source county\"] = \"None\"\n",
    "df[\"Source state\"] = \"None\"\n",
    "df[\"Destination country\"] = \"Ethiopia\"\n",
    "df[\"Destination county\"] = \"None\"\n",
    "df[\"Destination state\"] = \"None\"\n",
    "\n",
    "df.loc[0,'Source state'] = \"Jonglei\"\n",
    "df.loc[0,'Destination country'] = \"South Sudan\"\n",
    "df.loc[0,'Destination state'] = \"Eastern Lakes\"\n",
    "df.loc[0,'Destination county'] = \"Awerial South\"\n",
    "\n",
    "df.loc[1,'Source state'] = \"Yei River\"\n",
    "df.loc[1,'Source county'] = \"Yei\"\n",
    "df.loc[1,'Destination country'] = \"South Sudan\"\n",
    "df.loc[1,'Destination state'] = \"Jonglei\"\n",
    "df.loc[1,'Destination county'] = \"Bor\"\n",
    "df.loc[df[\"Variable\"] == 'Incoming Migrants', 'Source country'] = \"Ethiopia\"\n",
    "df.loc[df[\"Variable\"] == 'Incoming Migrants', 'Destination country'] = \"South Sudan\"\n",
    "df[\"Source\"] = \"ReachJongleiJan\"\n",
    "df.drop(df.columns[[0,1,2,4]],axis=1, inplace=True)\n",
    "df.rename(columns={\"Value count\": \"Value\"}, inplace=True)\n",
    "df = df.reindex(columns=['Source country','Source state','Source county','Destination country','Destination state','Destination county','Source','Unit','Value','Variable','Start year','Start month','End year','End month',])\n",
    "\n",
    "df"
   ]
  },
  {
   "cell_type": "code",
   "execution_count": null,
   "metadata": {},
   "outputs": [],
   "source": [
    "df['Country'] = df['Source country']\n",
    "\n",
    "df.loc[df['Variable'] == 'Incoming Migrants', 'Country'] = df.loc[df['Variable'] == 'Incoming Migrants', 'Destination country']\n",
    "\n",
    "df['State'] = df['Source state']\n",
    "\n",
    "df.loc[df['Variable'] == 'Incoming Migrants', 'State'] = df.loc[df['Variable'] == 'Incoming Migrants', 'Destination state']\n",
    "\n",
    "df['County'] = df['Source county']\n",
    "\n",
    "df.loc[df['Variable'] == 'Incoming Migrants', 'County'] = df.loc[df['Variable'] == 'Incoming Migrants', 'Destination county']\n",
    "\n",
    "df['Year'] = df['End year']\n",
    "df['Month'] = df['End month']\n",
    "\n",
    "df.loc[(df['End year'] == -1) & (df['End month'] == 0), 'Year'] = df.loc[(df['End year'] == -1) & (df['End month'] == 0), 'Start year']\n",
    "\n",
    "df.loc[(df['End year'] == -1) & (df['End month'] == 0), 'Month'] = df.loc[(df['End year'] == -1) & (df['End month'] == 0), 'Start month']\n",
    "\n",
    "df.drop(df.columns[[0,1,2,3,4,5,10,11,12,13]],axis=1, inplace=True)\n",
    "df = df.reindex(columns=['Country','County','Month','Source','State','Unit','Value','Variable','Year'])\n",
    "\n",
    "\n",
    "df"
   ]
  },
  {
   "cell_type": "code",
   "execution_count": null,
   "metadata": {},
   "outputs": [],
   "source": [
    "query = \" \".join(\n",
    "        [\n",
    "            f\"select * from indicator\",\n",
    "            f\"where `Variable` like 'New asylum seeking applicants'\",\n",
    "        ]\n",
    "    )\n",
    "\n",
    "results = engine.execute(query)\n",
    "\n",
    "df_results = pd.DataFrame(results,columns=results.keys())\n",
    "df_results"
   ]
  }
 ],
 "metadata": {
  "kernelspec": {
   "display_name": "Python 3",
   "language": "python",
   "name": "python3"
  },
  "language_info": {
   "codemirror_mode": {
    "name": "ipython",
    "version": 3
   },
   "file_extension": ".py",
   "mimetype": "text/x-python",
   "name": "python",
   "nbconvert_exporter": "python",
   "pygments_lexer": "ipython3",
   "version": "3.7.3"
  }
 },
 "nbformat": 4,
 "nbformat_minor": 2
}

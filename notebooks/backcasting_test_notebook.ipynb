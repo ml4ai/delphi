{
 "cells": [
  {
   "cell_type": "markdown",
   "metadata": {},
   "source": [
    "# Backcasting Demo Notebook\n",
    "\n",
    "_Loren Champlin_\n",
    "\n",
    "Adapted from _Adarsh Pyarelal_'s WM 12 Month Evaluation Notebook \n",
    "\n",
    "As always, we begin with imports, and print out the commit hash for a rendered\n",
    "version of the notebook."
   ]
  },
  {
   "cell_type": "code",
   "execution_count": 1,
   "metadata": {},
   "outputs": [
    {
     "name": "stdout",
     "output_type": "stream",
     "text": [
      "This notebook has been rendered with commit b'b0bba1c7d69871c07506a9abee9fa524d9d15123' of Delphi.\n"
     ]
    }
   ],
   "source": [
    "%load_ext autoreload\n",
    "%autoreload 2\n",
    "%matplotlib inline\n",
    "import pickle\n",
    "from IPython.display import set_matplotlib_formats\n",
    "set_matplotlib_formats('retina')\n",
    "from delphi.visualization import visualize\n",
    "import delphi.jupyter_tools as jt\n",
    "import numpy as np\n",
    "import pandas as pd\n",
    "from scipy import stats\n",
    "#Comment out the next line if you do not have the delphi.db file. \n",
    "from delphi.db import engine\n",
    "jt.print_commit_hash_message()\n",
    "import random as rm\n",
    "import delphi.evaluation as EN\n",
    "import warnings\n",
    "#warnings.filterwarnings(\"ignore\")\n",
    "import logging\n",
    "logging.getLogger().setLevel(logging.CRITICAL)\n",
    "from indra.statements import (\n",
    "    Concept,\n",
    "    Influence,\n",
    "    Evidence,\n",
    "    Event,\n",
    "    QualitativeDelta,\n",
    ")\n",
    "from delphi.utils.indra import *\n",
    "from delphi.utils.shell import cd\n",
    "import seaborn as sns\n",
    "import matplotlib.pyplot as plt\n",
    "from delphi.utils.fp import flatMap, take, ltake, lmap, pairwise, iterate, exists\n",
    "from delphi.cpp.AnalysisGraph import AnalysisGraph as AG"
   ]
  },
  {
   "cell_type": "markdown",
   "metadata": {},
   "source": [
    "Here I will set random seeds"
   ]
  },
  {
   "cell_type": "code",
   "execution_count": 2,
   "metadata": {},
   "outputs": [],
   "source": [
    "np.random.seed(87)\n",
    "rm.seed(87)"
   ]
  },
  {
   "cell_type": "code",
   "execution_count": 3,
   "metadata": {},
   "outputs": [],
   "source": [
    "statements = [ ((\"large\", -1, \"UN/entities/human/financial/economic/inflation\"),(\"small\", 1, \"UN/events/human/human_migration\"))]\n"
   ]
  },
  {
   "cell_type": "markdown",
   "metadata": {},
   "source": [
    "Now we load the Causal Analysis Graph (CAG). This is CAG was inferred by reading in a JSON corpus and was pruned and adjusted to be human migration centered. Also is a list of the nodes contained in the CAG"
   ]
  },
  {
   "cell_type": "code",
   "execution_count": 4,
   "metadata": {
    "scrolled": true
   },
   "outputs": [],
   "source": [
    "#with open(\"../scripts/build/migration_centered_CAG.pkl\",'rb') as f:\n",
    "    #G = pickle.load(f)\n",
    "\n",
    "G = AG.from_statements(statements)"
   ]
  },
  {
   "cell_type": "code",
   "execution_count": 5,
   "metadata": {},
   "outputs": [
    {
     "data": {
      "text/plain": [
       "2"
      ]
     },
     "execution_count": 5,
     "metadata": {},
     "output_type": "execute_result"
    }
   ],
   "source": [
    "G.map_concepts_to_indicators()\n"
   ]
  },
  {
   "cell_type": "code",
   "execution_count": 6,
   "metadata": {},
   "outputs": [],
   "source": [
    "G.print_nodes()"
   ]
  },
  {
   "cell_type": "code",
   "execution_count": 7,
   "metadata": {},
   "outputs": [
    {
     "data": {
      "text/html": [
       "<div>\n",
       "<style scoped>\n",
       "    .dataframe tbody tr th:only-of-type {\n",
       "        vertical-align: middle;\n",
       "    }\n",
       "\n",
       "    .dataframe tbody tr th {\n",
       "        vertical-align: top;\n",
       "    }\n",
       "\n",
       "    .dataframe thead th {\n",
       "        text-align: right;\n",
       "    }\n",
       "</style>\n",
       "<table border=\"1\" class=\"dataframe\">\n",
       "  <thead>\n",
       "    <tr style=\"text-align: right;\">\n",
       "      <th></th>\n",
       "      <th>Source</th>\n",
       "      <th>Indicator</th>\n",
       "    </tr>\n",
       "  </thead>\n",
       "  <tbody>\n",
       "    <tr>\n",
       "      <th>0</th>\n",
       "      <td>mitre12</td>\n",
       "      <td>Inflation Rate</td>\n",
       "    </tr>\n",
       "    <tr>\n",
       "      <th>1</th>\n",
       "      <td>mitre12</td>\n",
       "      <td>Inflation, GDP deflator</td>\n",
       "    </tr>\n",
       "    <tr>\n",
       "      <th>2</th>\n",
       "      <td>mitre12</td>\n",
       "      <td>Inflation, GDP deflator: linked series</td>\n",
       "    </tr>\n",
       "    <tr>\n",
       "      <th>3</th>\n",
       "      <td>mitre12</td>\n",
       "      <td>Inflation, consumer prices</td>\n",
       "    </tr>\n",
       "    <tr>\n",
       "      <th>4</th>\n",
       "      <td>mitre12</td>\n",
       "      <td>GDP growth</td>\n",
       "    </tr>\n",
       "  </tbody>\n",
       "</table>\n",
       "</div>"
      ],
      "text/plain": [
       "    Source                               Indicator\n",
       "0  mitre12                          Inflation Rate\n",
       "1  mitre12                 Inflation, GDP deflator\n",
       "2  mitre12  Inflation, GDP deflator: linked series\n",
       "3  mitre12              Inflation, consumer prices\n",
       "4  mitre12                              GDP growth"
      ]
     },
     "execution_count": 7,
     "metadata": {},
     "output_type": "execute_result"
    }
   ],
   "source": [
    "n = 2\n",
    "query = \" \".join(\n",
    "        [\n",
    "            \"select Source, Indicator from concept_to_indicator_mapping\",\n",
    "            \"where `Concept` like 'UN/entities/human/financial/economic/inflation'\",\n",
    "        ]\n",
    "    )\n",
    "\n",
    "results = engine.execute(query)\n",
    "\n",
    "pd.DataFrame(results, columns=results.keys())"
   ]
  },
  {
   "cell_type": "code",
   "execution_count": null,
   "metadata": {},
   "outputs": [],
   "source": []
  },
  {
   "cell_type": "markdown",
   "metadata": {},
   "source": [
    "Next we map indicator variables to nodes. For the most part indicator variables can be inferred from available data and texts, but we can also manually map indicators to nodes. There is also a list of the indicator variables in the same order as the list of nodes above (i.e \"Claims on other sectors of the domestic economy\" is attached to \"UN/events/human/economic_crisis\"."
   ]
  },
  {
   "cell_type": "code",
   "execution_count": 8,
   "metadata": {},
   "outputs": [
    {
     "data": {
      "text/plain": [
       "[(13606, 'South Sudan', None, 9.0, 'ieconomics.com', None, '%', '1.2', 'Inflation Rate', 2013),\n",
       " (13607, 'South Sudan', None, 10.0, 'ieconomics.com', None, '%', '-14.0', 'Inflation Rate', 2013),\n",
       " (13608, 'South Sudan', None, 11.0, 'ieconomics.com', None, '%', '-8.8', 'Inflation Rate', 2013),\n",
       " (13609, 'South Sudan', None, 12.0, 'ieconomics.com', None, '%', '16.0', 'Inflation Rate', 2013),\n",
       " (13610, 'South Sudan', None, 1.0, 'ieconomics.com', None, '%', '-2.9', 'Inflation Rate', 2014),\n",
       " (13611, 'South Sudan', None, 2.0, 'ieconomics.com', None, '%', '0.4', 'Inflation Rate', 2014),\n",
       " (13612, 'South Sudan', None, 3.0, 'ieconomics.com', None, '%', '-1.2', 'Inflation Rate', 2014),\n",
       " (13613, 'South Sudan', None, 4.0, 'ieconomics.com', None, '%', '-3.0', 'Inflation Rate', 2014),\n",
       " (13614, 'South Sudan', None, 5.0, 'ieconomics.com', None, '%', '0.6', 'Inflation Rate', 2014),\n",
       " (13615, 'South Sudan', None, 6.0, 'ieconomics.com', None, '%', '2.6', 'Inflation Rate', 2014),\n",
       " (13616, 'South Sudan', None, 7.0, 'ieconomics.com', None, '%', '8.7', 'Inflation Rate', 2014),\n",
       " (13617, 'South Sudan', None, 8.0, 'ieconomics.com', None, '%', '0.3', 'Inflation Rate', 2014),\n",
       " (13618, 'South Sudan', None, 9.0, 'ieconomics.com', None, '%', '-5.1', 'Inflation Rate', 2014),\n",
       " (13619, 'South Sudan', None, 10.0, 'ieconomics.com', None, '%', '20.1', 'Inflation Rate', 2014),\n",
       " (13620, 'South Sudan', None, 11.0, 'ieconomics.com', None, '%', '9.9', 'Inflation Rate', 2014),\n",
       " (13621, 'South Sudan', None, 12.0, 'ieconomics.com', None, '%', '-0.75', 'Inflation Rate', 2014),\n",
       " (13622, 'South Sudan', None, 1.0, 'ieconomics.com', None, '%', '8.5', 'Inflation Rate', 2015),\n",
       " (13623, 'South Sudan', None, 2.0, 'ieconomics.com', None, '%', '13.7', 'Inflation Rate', 2015),\n",
       " (13624, 'South Sudan', None, 3.0, 'ieconomics.com', None, '%', '23.1', 'Inflation Rate', 2015),\n",
       " (13625, 'South Sudan', None, 4.0, 'ieconomics.com', None, '%', '38.4', 'Inflation Rate', 2015),\n",
       " (13626, 'South Sudan', None, 5.0, 'ieconomics.com', None, '%', '61.2', 'Inflation Rate', 2015),\n",
       " (13627, 'South Sudan', None, 6.0, 'ieconomics.com', None, '%', '51.9', 'Inflation Rate', 2015),\n",
       " (13628, 'South Sudan', None, 7.0, 'ieconomics.com', None, '%', '58.7', 'Inflation Rate', 2015),\n",
       " (13629, 'South Sudan', None, 8.0, 'ieconomics.com', None, '%', '91.3', 'Inflation Rate', 2015),\n",
       " (13630, 'South Sudan', None, 9.0, 'ieconomics.com', None, '%', '95.7', 'Inflation Rate', 2015),\n",
       " (13631, 'South Sudan', None, 10.0, 'ieconomics.com', None, '%', '73.6', 'Inflation Rate', 2015),\n",
       " (13632, 'South Sudan', None, 11.0, 'ieconomics.com', None, '%', '109.9', 'Inflation Rate', 2015),\n",
       " (13633, 'South Sudan', None, 12.0, 'ieconomics.com', None, '%', '165.0', 'Inflation Rate', 2015),\n",
       " (13634, 'South Sudan', None, 1.0, 'ieconomics.com', None, '%', '202.5', 'Inflation Rate', 2016),\n",
       " (13635, 'South Sudan', None, 2.0, 'ieconomics.com', None, '%', '245.2', 'Inflation Rate', 2016),\n",
       " (13636, 'South Sudan', None, 3.0, 'ieconomics.com', None, '%', '266.4', 'Inflation Rate', 2016),\n",
       " (13637, 'South Sudan', None, 4.0, 'ieconomics.com', None, '%', '295.0', 'Inflation Rate', 2016),\n",
       " (13638, 'South Sudan', None, 5.0, 'ieconomics.com', None, '%', '309.6', 'Inflation Rate', 2016),\n",
       " (13639, 'South Sudan', None, 6.0, 'ieconomics.com', None, '%', '661.3', 'Inflation Rate', 2016),\n",
       " (13640, 'South Sudan', None, 7.0, 'ieconomics.com', None, '%', '729.7', 'Inflation Rate', 2016),\n",
       " (13641, 'South Sudan', None, 8.0, 'ieconomics.com', None, '%', '682.1', 'Inflation Rate', 2016),\n",
       " (13642, 'South Sudan', None, 9.0, 'ieconomics.com', None, '%', '835.7', 'Inflation Rate', 2016),\n",
       " (13643, 'South Sudan', None, 10.0, 'ieconomics.com', None, '%', '457.2', 'Inflation Rate', 2016),\n",
       " (13644, 'South Sudan', None, 11.0, 'ieconomics.com', None, '%', '479.7', 'Inflation Rate', 2016),\n",
       " (13645, 'South Sudan', None, 12.0, 'ieconomics.com', None, '%', '371.8', 'Inflation Rate', 2016),\n",
       " (13646, 'South Sudan', None, 1.0, 'ieconomics.com', None, '%', '425.9', 'Inflation Rate', 2017),\n",
       " (13647, 'South Sudan', None, 2.0, 'ieconomics.com', None, '%', '304.6', 'Inflation Rate', 2017),\n",
       " (13648, 'South Sudan', None, 3.0, 'ieconomics.com', None, '%', '272.6', 'Inflation Rate', 2017),\n",
       " (13649, 'South Sudan', None, 4.0, 'ieconomics.com', None, '%', '334.0', 'Inflation Rate', 2017)]"
      ]
     },
     "execution_count": 8,
     "metadata": {},
     "output_type": "execute_result"
    }
   ],
   "source": [
    "query = \" \".join(\n",
    "        [\n",
    "            f\"select * from indicator\",\n",
    "            f\"where `Variable` like 'Inflation Rate'\",\n",
    "        ]\n",
    "    )\n",
    "\n",
    "results = engine.execute(query)\n",
    "\n",
    "list(results)"
   ]
  },
  {
   "cell_type": "code",
   "execution_count": 9,
   "metadata": {},
   "outputs": [
    {
     "data": {
      "text/plain": [
       "0.0"
      ]
     },
     "execution_count": 9,
     "metadata": {},
     "output_type": "execute_result"
    }
   ],
   "source": [
    "G.get_data_value_test(\"Inflation Rate\",year=2013,month=9)"
   ]
  }
 ],
 "metadata": {
  "kernelspec": {
   "display_name": "Python 3",
   "language": "python",
   "name": "python3"
  },
  "language_info": {
   "codemirror_mode": {
    "name": "ipython",
    "version": 3
   },
   "file_extension": ".py",
   "mimetype": "text/x-python",
   "name": "python",
   "nbconvert_exporter": "python",
   "pygments_lexer": "ipython3",
   "version": "3.7.3"
  }
 },
 "nbformat": 4,
 "nbformat_minor": 2
}
